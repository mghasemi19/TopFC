{
 "cells": [
  {
   "cell_type": "markdown",
   "metadata": {},
   "source": [
    "# How to rediscover the Higgs boson yourself - with Machine Learning!\n",
    "This notebook uses ATLAS Open Data http://opendata.atlas.cern to show you the steps to apply Machine Learning in search for the Higgs boson!\n",
    "\n",
    "ATLAS Open Data provides open access to proton-proton collision data at the LHC for educational purposes. ATLAS Open Data resources are ideal for high-school, undergraduate and postgraduate students.\n",
    "\n",
    "Notebooks are web applications that allow you to create and share documents that can contain for example:\n",
    "1. live code\n",
    "2. visualisations\n",
    "3. narrative text\n",
    "\n",
    "Notebooks are a perfect platform to develop Machine Learning for your work, since you'll need exactly those 3 things: code, visualisations and narrative text!\n",
    "\n",
    "We're interested in Machine Learning because we can design an algorithm to figure out for itself how to do various analyses, potentially saving us countless human-hours of design and analysis work.\n",
    "\n",
    "Machine Learning use within high energy physics includes: \n",
    "* particle tracking\n",
    "* particle identification\n",
    "* signal/background classification\n",
    "* and more!\n",
    "\n",
    "This notebook will focus on signal/background classification.\n",
    "\n",
    "By the end of this notebook you will be able to:\n",
    "1. run machine learning models to classify signal and background\n",
    "2. know some things you can change to improve your machine learning models\n",
    "\n",
    "This analysis loosely follows the [discovery of the Higgs boson by ATLAS](https://www.sciencedirect.com/science/article/pii/S037026931200857X) (mostly Section 4 and 4.1)"
   ]
  },
  {
   "attachments": {},
   "cell_type": "markdown",
   "metadata": {},
   "source": [
    "## 1. Load libraries\n",
    "\n",
    "Here we will import all the required libraries for the rest of the tutorial. All scikit-learn and PyTorch functions will be imported later on when they are required. You can check the version of these packages by checking the __version__ attribute. Let’s set the random seed that we’ll be using. This reduces the randomness when you re-run the notebook."
   ]
  },
  {
   "cell_type": "code",
   "execution_count": 1,
   "metadata": {
    "execution": {
     "iopub.execute_input": "2021-08-23T01:23:53.366313Z",
     "iopub.status.busy": "2021-08-23T01:23:53.365945Z",
     "iopub.status.idle": "2021-08-23T01:23:53.372440Z",
     "shell.execute_reply": "2021-08-23T01:23:53.371300Z",
     "shell.execute_reply.started": "2021-08-23T01:23:53.366283Z"
    }
   },
   "outputs": [
    {
     "name": "stdout",
     "output_type": "stream",
     "text": [
      "1.19.5\n",
      "1.2.1\n"
     ]
    }
   ],
   "source": [
    "# 1. Import needed libraries\n",
    "\n",
    "import pandas as pd # to store data as dataframe\n",
    "import numpy as np # for numerical calculations such as histogramming\n",
    "import matplotlib.pyplot as plt # for plotting\n",
    "\n",
    "print (np.__version__)\n",
    "print (pd.__version__)\n",
    "\n",
    "seed_value = 420 # 42 is the answer to life, the universe and everything\n",
    "from numpy.random import seed # import the function to set the random seed in NumPy\n",
    "seed(seed_value) # set the seed value for random numbers in NumPy"
   ]
  },
  {
   "attachments": {},
   "cell_type": "markdown",
   "metadata": {},
   "source": [
    "## 2. Load dataset for four leptons (signal and backgrounds)\n",
    "\n",
    "The dataset we will use in this tutorial is simulated ATLAS data. Each event corresponds to 4 detected leptons: some events correspond to a Higgs Boson decay (signal) and others do not (background). Various physical quantities such as lepton charge and transverse momentum are recorded for each event. The analysis in this tutorial loosely follows the discovery of the Higgs Boson."
   ]
  },
  {
   "cell_type": "code",
   "execution_count": 51,
   "metadata": {
    "execution": {
     "iopub.execute_input": "2021-08-23T01:23:53.387605Z",
     "iopub.status.busy": "2021-08-23T01:23:53.387154Z",
     "iopub.status.idle": "2021-08-23T01:24:01.461110Z",
     "shell.execute_reply": "2021-08-23T01:24:01.459909Z",
     "shell.execute_reply.started": "2021-08-23T01:23:53.387555Z"
    }
   },
   "outputs": [],
   "source": [
    "# 2. Import dataset for Higgs to 4l and backgrounds\n",
    "\n",
    "# In this notebook we only process the main signal ggH125_ZZ4lep and the main background llll, \n",
    "# for illustration purposes. You can add other backgrounds after if you wish.\n",
    "samples = ['llll','ggH125_ZZ4lep']\n",
    "\n",
    "# get data from files\n",
    "DataFrames = {} # define empty dictionary to hold dataframes\n",
    "for s in samples: # loop over samples\n",
    "    DataFrames[s] = pd.read_csv('Data/'+s+\".csv\") # read .csv file\n",
    "\n",
    "#DataFrames['ggH125_ZZ4lep'] # print signal data to take a look"
   ]
  },
  {
   "cell_type": "code",
   "execution_count": 52,
   "metadata": {
    "execution": {
     "iopub.execute_input": "2021-08-23T01:24:01.463862Z",
     "iopub.status.busy": "2021-08-23T01:24:01.463383Z",
     "iopub.status.idle": "2021-08-23T01:24:01.535313Z",
     "shell.execute_reply": "2021-08-23T01:24:01.534240Z",
     "shell.execute_reply.started": "2021-08-23T01:24:01.463814Z"
    }
   },
   "outputs": [
    {
     "name": "stdout",
     "output_type": "stream",
     "text": [
      "<class 'pandas.core.frame.DataFrame'>\n",
      "Index(['entry', 'lep_pt_0', 'lep_pt_1', 'lep_pt_2', 'lep_pt_3', 'lep_eta_0',\n",
      "       'lep_eta_1', 'lep_eta_2', 'lep_eta_3', 'lep_phi_0', 'lep_phi_1',\n",
      "       'lep_phi_2', 'lep_phi_3', 'lep_E_0', 'lep_E_1', 'lep_E_2', 'lep_E_3',\n",
      "       'lep_charge_0', 'lep_charge_1', 'lep_charge_2', 'lep_charge_3',\n",
      "       'lep_type_0', 'lep_type_1', 'lep_type_2', 'lep_type_3', 'lep_z0_0',\n",
      "       'lep_z0_1', 'lep_z0_2', 'lep_z0_3', 'lep_sigd0_0', 'lep_sigd0_1',\n",
      "       'lep_sigd0_2', 'lep_sigd0_3', 'lep_ptconerel_0', 'lep_ptconerel_1',\n",
      "       'lep_ptconerel_2', 'lep_ptconerel_3', 'lep_etconerel_0',\n",
      "       'lep_etconerel_1', 'lep_etconerel_2', 'lep_etconerel_3', 'min_mll',\n",
      "       'mZ1', 'mZ2', 'mllll', 'totalWeight'],\n",
      "      dtype='object')\n"
     ]
    },
    {
     "data": {
      "text/html": [
       "<div>\n",
       "<style scoped>\n",
       "    .dataframe tbody tr th:only-of-type {\n",
       "        vertical-align: middle;\n",
       "    }\n",
       "\n",
       "    .dataframe tbody tr th {\n",
       "        vertical-align: top;\n",
       "    }\n",
       "\n",
       "    .dataframe thead th {\n",
       "        text-align: right;\n",
       "    }\n",
       "</style>\n",
       "<table border=\"1\" class=\"dataframe\">\n",
       "  <thead>\n",
       "    <tr style=\"text-align: right;\">\n",
       "      <th></th>\n",
       "      <th>entry</th>\n",
       "      <th>lep_pt_0</th>\n",
       "      <th>lep_pt_1</th>\n",
       "      <th>lep_pt_2</th>\n",
       "      <th>lep_pt_3</th>\n",
       "      <th>lep_eta_0</th>\n",
       "      <th>lep_eta_1</th>\n",
       "      <th>lep_eta_2</th>\n",
       "      <th>lep_eta_3</th>\n",
       "      <th>lep_phi_0</th>\n",
       "      <th>...</th>\n",
       "      <th>lep_ptconerel_3</th>\n",
       "      <th>lep_etconerel_0</th>\n",
       "      <th>lep_etconerel_1</th>\n",
       "      <th>lep_etconerel_2</th>\n",
       "      <th>lep_etconerel_3</th>\n",
       "      <th>min_mll</th>\n",
       "      <th>mZ1</th>\n",
       "      <th>mZ2</th>\n",
       "      <th>mllll</th>\n",
       "      <th>totalWeight</th>\n",
       "    </tr>\n",
       "  </thead>\n",
       "  <tbody>\n",
       "    <tr>\n",
       "      <th>0</th>\n",
       "      <td>0</td>\n",
       "      <td>51.905457</td>\n",
       "      <td>41.248570</td>\n",
       "      <td>16.397670</td>\n",
       "      <td>7.471228</td>\n",
       "      <td>-0.925709</td>\n",
       "      <td>-0.823695</td>\n",
       "      <td>-0.486417</td>\n",
       "      <td>0.266718</td>\n",
       "      <td>-2.774290</td>\n",
       "      <td>...</td>\n",
       "      <td>0.000000</td>\n",
       "      <td>-0.005114</td>\n",
       "      <td>0.034386</td>\n",
       "      <td>0.071266</td>\n",
       "      <td>-0.115843</td>\n",
       "      <td>9.953831</td>\n",
       "      <td>92.628607</td>\n",
       "      <td>23.311568</td>\n",
       "      <td>122.689157</td>\n",
       "      <td>0.000018</td>\n",
       "    </tr>\n",
       "    <tr>\n",
       "      <th>1</th>\n",
       "      <td>1</td>\n",
       "      <td>41.430645</td>\n",
       "      <td>40.307168</td>\n",
       "      <td>16.133789</td>\n",
       "      <td>7.481857</td>\n",
       "      <td>-1.233182</td>\n",
       "      <td>-0.396434</td>\n",
       "      <td>-0.541508</td>\n",
       "      <td>-0.302179</td>\n",
       "      <td>0.449031</td>\n",
       "      <td>...</td>\n",
       "      <td>0.151779</td>\n",
       "      <td>-0.030370</td>\n",
       "      <td>0.017931</td>\n",
       "      <td>0.030408</td>\n",
       "      <td>-0.120944</td>\n",
       "      <td>17.821408</td>\n",
       "      <td>86.697751</td>\n",
       "      <td>17.821408</td>\n",
       "      <td>113.659172</td>\n",
       "      <td>0.000034</td>\n",
       "    </tr>\n",
       "    <tr>\n",
       "      <th>2</th>\n",
       "      <td>2</td>\n",
       "      <td>33.646711</td>\n",
       "      <td>27.313271</td>\n",
       "      <td>20.035949</td>\n",
       "      <td>16.472641</td>\n",
       "      <td>-0.032324</td>\n",
       "      <td>-0.044153</td>\n",
       "      <td>0.067013</td>\n",
       "      <td>1.859531</td>\n",
       "      <td>-2.077223</td>\n",
       "      <td>...</td>\n",
       "      <td>0.000000</td>\n",
       "      <td>0.016144</td>\n",
       "      <td>-0.012675</td>\n",
       "      <td>0.101923</td>\n",
       "      <td>0.017772</td>\n",
       "      <td>32.122807</td>\n",
       "      <td>62.627431</td>\n",
       "      <td>32.122807</td>\n",
       "      <td>125.399958</td>\n",
       "      <td>0.000040</td>\n",
       "    </tr>\n",
       "    <tr>\n",
       "      <th>3</th>\n",
       "      <td>3</td>\n",
       "      <td>77.118562</td>\n",
       "      <td>27.845740</td>\n",
       "      <td>17.726541</td>\n",
       "      <td>14.714521</td>\n",
       "      <td>0.514764</td>\n",
       "      <td>0.845311</td>\n",
       "      <td>2.189158</td>\n",
       "      <td>0.179711</td>\n",
       "      <td>0.115437</td>\n",
       "      <td>...</td>\n",
       "      <td>0.000000</td>\n",
       "      <td>-0.005004</td>\n",
       "      <td>-0.007781</td>\n",
       "      <td>0.000000</td>\n",
       "      <td>0.034991</td>\n",
       "      <td>29.143731</td>\n",
       "      <td>84.535069</td>\n",
       "      <td>29.143731</td>\n",
       "      <td>123.645105</td>\n",
       "      <td>0.000059</td>\n",
       "    </tr>\n",
       "    <tr>\n",
       "      <th>4</th>\n",
       "      <td>4</td>\n",
       "      <td>161.909219</td>\n",
       "      <td>53.367754</td>\n",
       "      <td>25.596689</td>\n",
       "      <td>18.864479</td>\n",
       "      <td>-1.037354</td>\n",
       "      <td>-0.821728</td>\n",
       "      <td>-1.261883</td>\n",
       "      <td>0.126195</td>\n",
       "      <td>-0.161717</td>\n",
       "      <td>...</td>\n",
       "      <td>0.000000</td>\n",
       "      <td>0.018625</td>\n",
       "      <td>-0.000264</td>\n",
       "      <td>-0.001246</td>\n",
       "      <td>-0.002172</td>\n",
       "      <td>39.159591</td>\n",
       "      <td>68.958081</td>\n",
       "      <td>48.500839</td>\n",
       "      <td>123.518264</td>\n",
       "      <td>0.000078</td>\n",
       "    </tr>\n",
       "    <tr>\n",
       "      <th>...</th>\n",
       "      <td>...</td>\n",
       "      <td>...</td>\n",
       "      <td>...</td>\n",
       "      <td>...</td>\n",
       "      <td>...</td>\n",
       "      <td>...</td>\n",
       "      <td>...</td>\n",
       "      <td>...</td>\n",
       "      <td>...</td>\n",
       "      <td>...</td>\n",
       "      <td>...</td>\n",
       "      <td>...</td>\n",
       "      <td>...</td>\n",
       "      <td>...</td>\n",
       "      <td>...</td>\n",
       "      <td>...</td>\n",
       "      <td>...</td>\n",
       "      <td>...</td>\n",
       "      <td>...</td>\n",
       "      <td>...</td>\n",
       "      <td>...</td>\n",
       "    </tr>\n",
       "    <tr>\n",
       "      <th>164711</th>\n",
       "      <td>164711</td>\n",
       "      <td>32.143482</td>\n",
       "      <td>24.158068</td>\n",
       "      <td>17.203547</td>\n",
       "      <td>14.358152</td>\n",
       "      <td>-1.003832</td>\n",
       "      <td>0.609448</td>\n",
       "      <td>0.876340</td>\n",
       "      <td>1.039745</td>\n",
       "      <td>-0.417631</td>\n",
       "      <td>...</td>\n",
       "      <td>0.000000</td>\n",
       "      <td>-0.020921</td>\n",
       "      <td>0.040304</td>\n",
       "      <td>-0.001333</td>\n",
       "      <td>0.010283</td>\n",
       "      <td>25.926057</td>\n",
       "      <td>62.697352</td>\n",
       "      <td>39.612517</td>\n",
       "      <td>123.352912</td>\n",
       "      <td>0.000019</td>\n",
       "    </tr>\n",
       "    <tr>\n",
       "      <th>164712</th>\n",
       "      <td>164712</td>\n",
       "      <td>39.488273</td>\n",
       "      <td>33.694094</td>\n",
       "      <td>32.709998</td>\n",
       "      <td>14.797520</td>\n",
       "      <td>0.184790</td>\n",
       "      <td>0.799441</td>\n",
       "      <td>-0.454989</td>\n",
       "      <td>-1.167309</td>\n",
       "      <td>-0.747386</td>\n",
       "      <td>...</td>\n",
       "      <td>0.000000</td>\n",
       "      <td>0.040552</td>\n",
       "      <td>-0.000592</td>\n",
       "      <td>0.018882</td>\n",
       "      <td>-0.019414</td>\n",
       "      <td>30.654450</td>\n",
       "      <td>56.876117</td>\n",
       "      <td>30.654450</td>\n",
       "      <td>122.652688</td>\n",
       "      <td>0.000054</td>\n",
       "    </tr>\n",
       "    <tr>\n",
       "      <th>164713</th>\n",
       "      <td>164713</td>\n",
       "      <td>63.284211</td>\n",
       "      <td>22.707840</td>\n",
       "      <td>15.635994</td>\n",
       "      <td>14.873250</td>\n",
       "      <td>0.935591</td>\n",
       "      <td>0.184483</td>\n",
       "      <td>0.174508</td>\n",
       "      <td>2.128866</td>\n",
       "      <td>-1.503719</td>\n",
       "      <td>...</td>\n",
       "      <td>0.000000</td>\n",
       "      <td>0.010497</td>\n",
       "      <td>-0.015776</td>\n",
       "      <td>-0.022911</td>\n",
       "      <td>-0.003570</td>\n",
       "      <td>30.952590</td>\n",
       "      <td>66.649322</td>\n",
       "      <td>37.686620</td>\n",
       "      <td>124.312299</td>\n",
       "      <td>0.000071</td>\n",
       "    </tr>\n",
       "    <tr>\n",
       "      <th>164714</th>\n",
       "      <td>164714</td>\n",
       "      <td>52.538805</td>\n",
       "      <td>40.321457</td>\n",
       "      <td>25.766850</td>\n",
       "      <td>19.381920</td>\n",
       "      <td>0.880250</td>\n",
       "      <td>1.205615</td>\n",
       "      <td>1.701138</td>\n",
       "      <td>0.853039</td>\n",
       "      <td>-2.060255</td>\n",
       "      <td>...</td>\n",
       "      <td>0.000000</td>\n",
       "      <td>0.017046</td>\n",
       "      <td>-0.013661</td>\n",
       "      <td>0.057185</td>\n",
       "      <td>0.000224</td>\n",
       "      <td>19.868087</td>\n",
       "      <td>88.412652</td>\n",
       "      <td>19.868087</td>\n",
       "      <td>124.105421</td>\n",
       "      <td>0.000060</td>\n",
       "    </tr>\n",
       "    <tr>\n",
       "      <th>164715</th>\n",
       "      <td>164715</td>\n",
       "      <td>58.730094</td>\n",
       "      <td>35.112828</td>\n",
       "      <td>12.265971</td>\n",
       "      <td>11.089536</td>\n",
       "      <td>-1.204163</td>\n",
       "      <td>-1.788791</td>\n",
       "      <td>-0.268844</td>\n",
       "      <td>-0.827986</td>\n",
       "      <td>1.666449</td>\n",
       "      <td>...</td>\n",
       "      <td>0.000000</td>\n",
       "      <td>-0.006048</td>\n",
       "      <td>-0.008303</td>\n",
       "      <td>0.210177</td>\n",
       "      <td>-0.064255</td>\n",
       "      <td>23.934566</td>\n",
       "      <td>94.729962</td>\n",
       "      <td>23.934566</td>\n",
       "      <td>127.972664</td>\n",
       "      <td>0.000064</td>\n",
       "    </tr>\n",
       "  </tbody>\n",
       "</table>\n",
       "<p>164716 rows × 46 columns</p>\n",
       "</div>"
      ],
      "text/plain": [
       "         entry    lep_pt_0   lep_pt_1   lep_pt_2   lep_pt_3  lep_eta_0  \\\n",
       "0            0   51.905457  41.248570  16.397670   7.471228  -0.925709   \n",
       "1            1   41.430645  40.307168  16.133789   7.481857  -1.233182   \n",
       "2            2   33.646711  27.313271  20.035949  16.472641  -0.032324   \n",
       "3            3   77.118562  27.845740  17.726541  14.714521   0.514764   \n",
       "4            4  161.909219  53.367754  25.596689  18.864479  -1.037354   \n",
       "...        ...         ...        ...        ...        ...        ...   \n",
       "164711  164711   32.143482  24.158068  17.203547  14.358152  -1.003832   \n",
       "164712  164712   39.488273  33.694094  32.709998  14.797520   0.184790   \n",
       "164713  164713   63.284211  22.707840  15.635994  14.873250   0.935591   \n",
       "164714  164714   52.538805  40.321457  25.766850  19.381920   0.880250   \n",
       "164715  164715   58.730094  35.112828  12.265971  11.089536  -1.204163   \n",
       "\n",
       "        lep_eta_1  lep_eta_2  lep_eta_3  lep_phi_0  ...  lep_ptconerel_3  \\\n",
       "0       -0.823695  -0.486417   0.266718  -2.774290  ...         0.000000   \n",
       "1       -0.396434  -0.541508  -0.302179   0.449031  ...         0.151779   \n",
       "2       -0.044153   0.067013   1.859531  -2.077223  ...         0.000000   \n",
       "3        0.845311   2.189158   0.179711   0.115437  ...         0.000000   \n",
       "4       -0.821728  -1.261883   0.126195  -0.161717  ...         0.000000   \n",
       "...           ...        ...        ...        ...  ...              ...   \n",
       "164711   0.609448   0.876340   1.039745  -0.417631  ...         0.000000   \n",
       "164712   0.799441  -0.454989  -1.167309  -0.747386  ...         0.000000   \n",
       "164713   0.184483   0.174508   2.128866  -1.503719  ...         0.000000   \n",
       "164714   1.205615   1.701138   0.853039  -2.060255  ...         0.000000   \n",
       "164715  -1.788791  -0.268844  -0.827986   1.666449  ...         0.000000   \n",
       "\n",
       "        lep_etconerel_0  lep_etconerel_1  lep_etconerel_2  lep_etconerel_3  \\\n",
       "0             -0.005114         0.034386         0.071266        -0.115843   \n",
       "1             -0.030370         0.017931         0.030408        -0.120944   \n",
       "2              0.016144        -0.012675         0.101923         0.017772   \n",
       "3             -0.005004        -0.007781         0.000000         0.034991   \n",
       "4              0.018625        -0.000264        -0.001246        -0.002172   \n",
       "...                 ...              ...              ...              ...   \n",
       "164711        -0.020921         0.040304        -0.001333         0.010283   \n",
       "164712         0.040552        -0.000592         0.018882        -0.019414   \n",
       "164713         0.010497        -0.015776        -0.022911        -0.003570   \n",
       "164714         0.017046        -0.013661         0.057185         0.000224   \n",
       "164715        -0.006048        -0.008303         0.210177        -0.064255   \n",
       "\n",
       "          min_mll        mZ1        mZ2       mllll  totalWeight  \n",
       "0        9.953831  92.628607  23.311568  122.689157     0.000018  \n",
       "1       17.821408  86.697751  17.821408  113.659172     0.000034  \n",
       "2       32.122807  62.627431  32.122807  125.399958     0.000040  \n",
       "3       29.143731  84.535069  29.143731  123.645105     0.000059  \n",
       "4       39.159591  68.958081  48.500839  123.518264     0.000078  \n",
       "...           ...        ...        ...         ...          ...  \n",
       "164711  25.926057  62.697352  39.612517  123.352912     0.000019  \n",
       "164712  30.654450  56.876117  30.654450  122.652688     0.000054  \n",
       "164713  30.952590  66.649322  37.686620  124.312299     0.000071  \n",
       "164714  19.868087  88.412652  19.868087  124.105421     0.000060  \n",
       "164715  23.934566  94.729962  23.934566  127.972664     0.000064  \n",
       "\n",
       "[164716 rows x 46 columns]"
      ]
     },
     "execution_count": 52,
     "metadata": {},
     "output_type": "execute_result"
    }
   ],
   "source": [
    "print(type(DataFrames['ggH125_ZZ4lep']))\n",
    "print(DataFrames['ggH125_ZZ4lep'].columns)\n",
    "DataFrames['ggH125_ZZ4lep'].head(5)\n",
    "DataFrames['ggH125_ZZ4lep'].lep_type_0\n",
    "#DataFrames['ggH125_ZZ4lep']['lep_type_0']\n",
    "DataFrames['ggH125_ZZ4lep']\n",
    "#type(DataFrames['ggH125_ZZ4lep'].lep_type_0)"
   ]
  },
  {
   "cell_type": "code",
   "execution_count": 55,
   "metadata": {},
   "outputs": [
    {
     "name": "stdout",
     "output_type": "stream",
     "text": [
      "Number of signal events: 164716\n",
      "Number of background events: 554279\n",
      "Number of features: 46\n"
     ]
    }
   ],
   "source": [
    "sig = DataFrames['ggH125_ZZ4lep']\n",
    "bckg = DataFrames['llll']\n",
    "\n",
    "#sig.head()\n",
    "#sig.info()\n",
    "print(\"Number of signal events:\", sig.shape[0])\n",
    "print(\"Number of background events:\", bckg.shape[0])\n",
    "print(\"Number of features:\", sig.shape[1])"
   ]
  },
  {
   "attachments": {},
   "cell_type": "markdown",
   "metadata": {},
   "source": [
    "## 3. Lepton cut on Nevent\n",
    "Before diving into machine learning, think about whether there are any things you should do to clean up your data. In the case of this Higgs analysis, Higgs boson decays should produce 4 electrons or 4 muons or 2 electrons and 2 muons. Let’s define a function to keep only events which produce 4 electrons or 4 muons or 2 electrons and 2 muons."
   ]
  },
  {
   "cell_type": "code",
   "execution_count": 56,
   "metadata": {},
   "outputs": [
    {
     "name": "stdout",
     "output_type": "stream",
     "text": [
      "163754\n",
      "161451\n"
     ]
    },
    {
     "data": {
      "text/plain": [
       "array([52, 48, 44])"
      ]
     },
     "execution_count": 56,
     "metadata": {},
     "output_type": "execute_result"
    }
   ],
   "source": [
    "# my own way to select events with the right leptons and charges\n",
    "\n",
    "def lep_cut_type(df):\n",
    "    lep_type_0 = df['lep_type_0']\n",
    "    lep_type_1 = df['lep_type_1']\n",
    "    lep_type_2 = df['lep_type_2']\n",
    "    lep_type_3 = df['lep_type_3']\n",
    "\n",
    "    sum = lep_type_0 + lep_type_1 + lep_type_2 + lep_type_3\n",
    "    if (sum == 44) or (sum==52) or (sum==48):\n",
    "        return True\n",
    "    else: \n",
    "        return False\n",
    "\n",
    "def lep_cut_charge(df):\n",
    "    lep_charge_0 = df['lep_charge_0']\n",
    "    lep_charge_1 = df['lep_charge_1']\n",
    "    lep_charge_2 = df['lep_charge_2']\n",
    "    lep_charge_3 = df['lep_charge_3']\n",
    "\n",
    "    sum = lep_charge_0 + lep_charge_1 + lep_charge_2 + lep_charge_3\n",
    "    if (sum == 0):\n",
    "        return True\n",
    "    else: \n",
    "        return False\n",
    "\n",
    "\n",
    "sig = sig[sig.apply(lep_cut_type, axis=1)]\n",
    "print(sig.shape[0])\n",
    "sig = sig[sig.apply(lep_cut_charge, axis=1)]\n",
    "print(sig.shape[0])\n",
    "\n",
    "sig['sum'] = sig['lep_type_0'] + sig['lep_type_1'] + sig['lep_type_2'] + sig['lep_type_3']\n",
    "sig['sum'].unique()"
   ]
  },
  {
   "cell_type": "code",
   "execution_count": 50,
   "metadata": {
    "execution": {
     "iopub.execute_input": "2021-08-23T01:24:01.536965Z",
     "iopub.status.busy": "2021-08-23T01:24:01.536665Z",
     "iopub.status.idle": "2021-08-23T01:24:01.878034Z",
     "shell.execute_reply": "2021-08-23T01:24:01.877018Z",
     "shell.execute_reply.started": "2021-08-23T01:24:01.536935Z"
    }
   },
   "outputs": [
    {
     "data": {
      "text/plain": [
       "(163754, 46)"
      ]
     },
     "execution_count": 50,
     "metadata": {},
     "output_type": "execute_result"
    }
   ],
   "source": [
    "# 3. Cut on lepton type to be eeee, or mumumumu, or eemumu\n",
    "\n",
    "def cut_lep_type(lep_type_0,lep_type_1,lep_type_2,lep_type_3):\n",
    "# first lepton is [0], 2nd lepton is [1] etc\n",
    "# for an electron lep_type is 11 for a muon lep_type is 13\n",
    "# only want to keep events where one of eeee, mumumumu, eemumu\n",
    "    sum_lep_type = lep_type_0 + lep_type_1 + lep_type_2 + lep_type_3\n",
    "    if sum_lep_type==44 or sum_lep_type==48 or sum_lep_type==52: return True\n",
    "    else: return False\n",
    "    \n",
    "# apply cut on lepton type\n",
    "for s in samples:\n",
    "    # cut on lepton type using the function cut_lep_type defined above\n",
    "    DataFrames[s] = DataFrames[s][ np.vectorize(cut_lep_type)(DataFrames[s].lep_type_0,\n",
    "                              \t\t                      DataFrames[s].lep_type_1,\n",
    "                                          \t              DataFrames[s].lep_type_2,\n",
    "                                                  \t      DataFrames[s].lep_type_3) ]\n",
    "DataFrames['ggH125_ZZ4lep'].shape # print signal data to take a look    \n",
    "\n",
    "# alternative way\n",
    "#sig['sum'] = sig['lep_type_0'] + sig['lep_type_1'] + sig['lep_type_2'] + sig['lep_type_3']\n",
    "#sig['sum'].unique()\n",
    "#sig = sig[(sig['sum'] == 44) | (sig['sum'] == 52) | (sig['sum'] == 48)]"
   ]
  },
  {
   "attachments": {},
   "cell_type": "markdown",
   "metadata": {},
   "source": [
    "## 4. Lepton cut on charge"
   ]
  },
  {
   "cell_type": "code",
   "execution_count": 111,
   "metadata": {},
   "outputs": [],
   "source": [
    "def cut_lep_charge(lep_charge_0,lep_charge_1,lep_charge_2,lep_charge_3):\n",
    "# only want to keep events where sum of lepton charges is 0\n",
    "    sum_lep_charge = lep_charge_0 + lep_charge_1 + lep_charge_2 + lep_charge_3\n",
    "    if sum_lep_charge==0: return True\n",
    "    else: return False"
   ]
  },
  {
   "cell_type": "code",
   "execution_count": 5,
   "metadata": {
    "execution": {
     "iopub.execute_input": "2021-08-23T01:24:01.879273Z",
     "iopub.status.busy": "2021-08-23T01:24:01.879019Z",
     "iopub.status.idle": "2021-08-23T01:24:01.932645Z",
     "shell.execute_reply": "2021-08-23T01:24:01.931581Z",
     "shell.execute_reply.started": "2021-08-23T01:24:01.879248Z"
    }
   },
   "outputs": [
    {
     "data": {
      "text/plain": [
       "(161451, 46)"
      ]
     },
     "execution_count": 5,
     "metadata": {},
     "output_type": "execute_result"
    }
   ],
   "source": [
    "# 4. Cut on lepton charge to be 0 in all cases\n",
    "\n",
    "def cut_lep_charge(lep_charge_0,lep_charge_1,lep_charge_2,lep_charge_3):\n",
    "# only want to keep events where sum of lepton charges is 0\n",
    "    sum_lep_charge = lep_charge_0 + lep_charge_1 + lep_charge_2 + lep_charge_3\n",
    "    if sum_lep_charge==0: return True\n",
    "    else: return False\n",
    "\n",
    "# apply cut on lepton charge\n",
    "for s in samples:\n",
    "    # cut on lepton charge using the function cut_lep_charge defined above\n",
    "    DataFrames[s] = DataFrames[s][ np.vectorize(cut_lep_charge)(DataFrames[s].lep_charge_0,\n",
    "                                                    \t    DataFrames[s].lep_charge_1,\n",
    "                                                    \t    DataFrames[s].lep_charge_2,\n",
    "                                                    \t    DataFrames[s].lep_charge_3) ]\n",
    "DataFrames['ggH125_ZZ4lep'].shape # print signal data to take a look    "
   ]
  },
  {
   "attachments": {},
   "cell_type": "markdown",
   "metadata": {},
   "source": [
    "## 5. Plot some input variables\n",
    "In any analysis searching for signal one wants to optimise the use of various input variables. Often, this optimisation will be to find the best signal to background ratio. Here we define histograms for the variables that we’ll look to optimise."
   ]
  },
  {
   "cell_type": "code",
   "execution_count": 59,
   "metadata": {},
   "outputs": [
    {
     "data": {
      "image/png": "[encoded data removed]",
      "text/plain": [
       "<Figure size 432x288 with 1 Axes>"
      ]
     },
     "metadata": {
      "needs_background": "light"
     },
     "output_type": "display_data"
    },
    {
     "data": {
      "image/png": "[encoded data removed]",
      "text/plain": [
       "<Figure size 432x288 with 1 Axes>"
      ]
     },
     "metadata": {
      "needs_background": "light"
     },
     "output_type": "display_data"
    },
    {
     "data": {
      "image/png": "[encoded data removed]",
      "text/plain": [
       "<Figure size 432x288 with 1 Axes>"
      ]
     },
     "metadata": {
      "needs_background": "light"
     },
     "output_type": "display_data"
    },
    {
     "data": {
      "image/png": "[encoded data removed]",
      "text/plain": [
       "<Figure size 432x288 with 1 Axes>"
      ]
     },
     "metadata": {
      "needs_background": "light"
     },
     "output_type": "display_data"
    },
    {
     "data": {
      "image/png": "[encoded data removed]",
      "text/plain": [
       "<Figure size 432x288 with 1 Axes>"
      ]
     },
     "metadata": {
      "needs_background": "light"
     },
     "output_type": "display_data"
    },
    {
     "data": {
      "image/png": "[encoded data removed]",
      "text/plain": [
       "<Figure size 432x288 with 1 Axes>"
      ]
     },
     "metadata": {
      "needs_background": "light"
     },
     "output_type": "display_data"
    }
   ],
   "source": [
    "# 5. Plot pT distributions and cumulative S/B \n",
    "\n",
    "\n",
    "lep_pt_1 = { # dictionary containing plotting parameters for the lep_pt_1 histogram\n",
    "    # change plotting parameters\n",
    "    'bin_width':1, # width of each histogram bin\n",
    "    'num_bins':38, # number of histogram bins\n",
    "    'xrange_min':7, # minimum on x-axis\n",
    "    'xlabel':r'$lep\\_pt$[1] [GeV]', # x-axis label\n",
    "}\n",
    "lep_eta_1 = { # dictionary containing plotting parameters for the lep_eta_1 histogram\n",
    "    # change plotting parameters\n",
    "    'bin_width':.5, # width of each histogram bin\n",
    "    'num_bins':20, # number of histogram bins\n",
    "    'xrange_min':-5, # minimum on x-axis\n",
    "    'xlabel':r'$lep\\_eta$[1]', # x-axis label\n",
    "}\n",
    "\n",
    "lep_pt_2 = { # dictionary containing plotting parameters for the lep_pt_2 histogram\n",
    "    # change plotting parameters\n",
    "    'bin_width':1, # width of each histogram bin\n",
    "    'num_bins':33, # number of histogram bins\n",
    "    'xrange_min':7, # minimum on x-axis\n",
    "    'xlabel':r'$lep\\_pt$[2] [GeV]', # x-axis label\n",
    "}\n",
    "\n",
    "SoverB_hist_dict = {'lep_pt_1':lep_pt_1, 'lep_eta_1':lep_eta_1, 'lep_pt_2':lep_pt_2} # add a histogram here if you want it plotted \n",
    "\n",
    "from my_functions import plot_SoverB\n",
    "plot_SoverB(DataFrames, SoverB_hist_dict)"
   ]
  },
  {
   "attachments": {},
   "cell_type": "markdown",
   "metadata": {},
   "source": [
    "1. Imagine placing a cut at 7 GeV in the distributions of signal and background (1st plot). This means keeping all events above 7 GeV in the signal and background histograms.\n",
    "2. We then take the ratio of the number of signal events that pass this cut, to the number of background events that pass this cut. This gives us a starting value for S/B (2nd plot).\n",
    "3. We then increase this cut value to 8 GeV, 9 GeV, 10 GeV, 11 GeV, 12 GeV. Cuts at these values are throwing away more background than signal, so S/B increases.\n",
    "4. There comes a point around 13 GeV where we start throwing away too much signal, thus S/B starts to decrease.\n",
    "5. Our goal is to find the maximum in S/B, and place the cut there. You may have thought the maximum would be where the signal and background cross in the upper plot, but remember that the lower plot is the signal to background ratio of everything to the right of that x-value, not the signal to background ratio at that x-value."
   ]
  },
  {
   "attachments": {},
   "cell_type": "markdown",
   "metadata": {},
   "source": [
    "## 6. Format the data for machine learning"
   ]
  },
  {
   "cell_type": "code",
   "execution_count": 73,
   "metadata": {},
   "outputs": [
    {
     "name": "stdout",
     "output_type": "stream",
     "text": [
      "554279 + 164716 = 718995 == 718995\n",
      "(718995, 2)\n",
      "(718995,)\n"
     ]
    }
   ],
   "source": [
    "# 6. convert DF to numpy array for sikitlearn and TF\n",
    "\n",
    "ML_inputs = ['lep_pt_1','lep_pt_2'] # list of features for ML model\n",
    "\n",
    "#  Organise data ready for the machine learning model\n",
    "\n",
    "# for sklearn data are usually organised\n",
    "# into one 2D array of shape (n_samples x n_features)\n",
    "# containing all the data and one array of categories \n",
    "# of length n_samples\n",
    "\n",
    "all_MC = [] # define empty list that will contain all features for the MC (list of dataframes)\n",
    "for s in samples: # loop over the different samples\n",
    "    if s!='data': # only MC should pass this\n",
    "        all_MC.append(DataFrames[s][ML_inputs]) # append the MC dataframe to the list containing all MC features\n",
    "X = np.concatenate(all_MC) # concatenate the list of MC dataframes into a single 2D array of features, called X\n",
    "print(all_MC[0].shape[0], '+', all_MC[1].shape[0], '=', all_MC[0].shape[0]+all_MC[1].shape[0], '==', X.shape[0])\n",
    "\n",
    "all_y = [] # define empty list that will contain labels whether an event in signal or background\n",
    "for s in samples: # loop over the different samples\n",
    "    if s!='data': # only MC should pass this\n",
    "        if 'H125' in s: # only signal MC should pass this\n",
    "            all_y.append(np.ones(DataFrames[s].shape[0])) # signal events are labelled with 1\n",
    "        else: # only background MC should pass this\n",
    "            all_y.append(np.zeros(DataFrames[s].shape[0])) # background events are labelled 0\n",
    "y = np.concatenate(all_y) # concatenate the list of lables into a single 1D array of labels, called y\n",
    "\n",
    "print(X.shape)\n",
    "print(y.shape)"
   ]
  },
  {
   "cell_type": "code",
   "execution_count": 8,
   "metadata": {},
   "outputs": [
    {
     "name": "stdout",
     "output_type": "stream",
     "text": [
      "(523957, 46)\n",
      "(161451, 46)\n",
      "61.67795703125\n",
      "48.66644140625\n",
      "41.2485703125\n",
      "16.397669921875\n",
      "[41.24857031 16.39766992]\n"
     ]
    }
   ],
   "source": [
    "all_MC_sig = []\n",
    "all_MC_sig.append(DataFrames['ggH125_ZZ4lep'][ML_inputs])\n",
    "all_MC_sig[0].shape\n",
    "print(DataFrames['llll'].shape)\n",
    "print(DataFrames['ggH125_ZZ4lep'].shape)\n",
    "\n",
    "print(DataFrames['llll']['lep_pt_1'][0])\n",
    "print(DataFrames['llll']['lep_pt_2'][0])\n",
    "print(DataFrames['ggH125_ZZ4lep']['lep_pt_1'][0])\n",
    "print(DataFrames['ggH125_ZZ4lep']['lep_pt_2'][0])\n",
    "print(X[523957])"
   ]
  },
  {
   "attachments": {},
   "cell_type": "markdown",
   "metadata": {},
   "source": [
    "## 7. Scaled training and test set "
   ]
  },
  {
   "cell_type": "code",
   "execution_count": 76,
   "metadata": {},
   "outputs": [
    {
     "name": "stdout",
     "output_type": "stream",
     "text": [
      "(481726, 2)\n",
      "(481726,)\n"
     ]
    }
   ],
   "source": [
    "# 7. define train and test sets for ML algorithm -- we also scale to normal dist\n",
    "\n",
    "# This will split your data into train-test sets: 67%-33%. \n",
    "# It will also shuffle entries so you will not get the first 67% of X for training \n",
    "# and the last 33% for testing. \n",
    "# This is particularly important in cases where you load all signal events first \n",
    "# and then the background events.\n",
    "\n",
    "# Here we split our data into two independent samples. \n",
    "# The split is to create a training and testing set. \n",
    "# The first will be used for classifier training and the second to evaluate its performance.\n",
    "\n",
    "from sklearn.model_selection import train_test_split\n",
    "\n",
    "# make train and test sets\n",
    "X_train,X_test, y_train,y_test = train_test_split(X, y, \n",
    "                                                  test_size=0.33, \n",
    "                                                  random_state=seed_value) # set the random seed for reproducibility\n",
    "print(X_train.shape)\n",
    "#print(X_train)\n",
    "print(y_train.shape)\n",
    "\n",
    "from sklearn.preprocessing import StandardScaler\n",
    "scaler = StandardScaler() # initialise StandardScaler (The StandardScaler ensures that all numerical attributes are scaled \n",
    "                          # to have a mean of 0 and a standard deviation of 1 before they are fed to the machine learning model)\n",
    "\n",
    "# Fit only to the training data\n",
    "scaler.fit(X_train)\n",
    "X_train_scaled = scaler.transform(X_train)\n",
    "#print(X_train_scaled)\n",
    "\n",
    "# Apply the same transformation to the test set\n",
    "X_test_scaled = scaler.transform(X_test)\n",
    "X_scaled = scaler.transform(X)"
   ]
  },
  {
   "attachments": {},
   "cell_type": "markdown",
   "metadata": {},
   "source": [
    "## 8. Random Forest"
   ]
  },
  {
   "cell_type": "code",
   "execution_count": 77,
   "metadata": {},
   "outputs": [
    {
     "name": "stdout",
     "output_type": "stream",
     "text": [
      "0.8140717919323637\n",
      "0.8170308432594462\n"
     ]
    }
   ],
   "source": [
    "# 8. Random Forest classifier for prediction and evaluate the model\n",
    "\n",
    "from sklearn.ensemble import RandomForestClassifier\n",
    "from sklearn.metrics import accuracy_score\n",
    "\n",
    "# the parameters for initializing are called hyperprameters\n",
    "RF_clf = RandomForestClassifier(criterion='gini', max_depth=8, n_estimators=30, random_state=seed_value) # initialise your random forest classifier\n",
    "RF_clf.fit(X_train_scaled, y_train) # fit to the training data\n",
    "y_pred_RF = RF_clf.predict(X_test_scaled) # make predictions on the test data\n",
    "\n",
    "# for my own curiosity\n",
    "y_pred_RF_train = RF_clf.predict(X_train_scaled)\n",
    "\n",
    "# See how well the classifier does, Acc = correct data / tot data\n",
    "# The accuracy score is defined as the ratio of correctly identified data points to all data points.\n",
    "print(accuracy_score(y_test, y_pred_RF))\n",
    "print(accuracy_score(y_train, y_pred_RF_train))"
   ]
  },
  {
   "attachments": {},
   "cell_type": "markdown",
   "metadata": {},
   "source": [
    "1. The classifier is created. In this situation we have three hyperparameters specified: criterion, max_depth (max number of consecutive cuts an individual tree can make), and n_estimators (number of decision trees used). These are not altered during training (i.e. they are not included in θ).\n",
    "2. The classifier is trained using the training dataset X_train_scaled and corresponding labels y_train. During training, we give the classifier both the features (X_train_scaled) and targets (y_train) and it must learn how to map the data to a prediction. Check out this online article for more info.\n",
    "3. The classifier makes predictions on the test dataset X_test_scaled. The machine learning algorithm was not exposed to these data during training.\n",
    "4. An accuracy score between the test dataset y_test and machine learning predictions y_pred is made. The accuracy score is defined as the ratio of correctly identified data points to all data points."
   ]
  },
  {
   "attachments": {},
   "cell_type": "markdown",
   "metadata": {},
   "source": [
    "## 9-12. Neural Network (using PyTorch)"
   ]
  },
  {
   "cell_type": "code",
   "execution_count": 79,
   "metadata": {},
   "outputs": [],
   "source": [
    "# 9. NN classifier, all hyperparameters, and Dataset\n",
    "\n",
    "import torch # import PyTorch\n",
    "import torch.nn as nn # import PyTorch neural network\n",
    "import torch.nn.functional as F # import PyTorch neural network functional\n",
    "from torch.autograd import Variable # create variable from tensor\n",
    "import torch.utils.data as Data # create data from tensors\n",
    "\n",
    "epochs        = 10                       # number of training epochs\n",
    "batch_size    = 32                       # number of samples per batch\n",
    "input_size    = len(ML_inputs)           # The number of features\n",
    "num_classes   = 2                        # The number of output classes. In this case: [signal, background]\n",
    "hidden_size   = 5                        # The number of nodes at the hidden layer\n",
    "learning_rate = 0.001                    # The speed of convergence\n",
    "verbose       = True                     # flag for printing out stats at each epoch\n",
    "torch.manual_seed(seed_value)            # set random seed for PyTorch\n",
    "\n",
    "X_train_tensor = torch.as_tensor(X_train_scaled, dtype=torch.float) # make tensor from X_train_scaled\n",
    "y_train_tensor = torch.as_tensor(y_train, dtype=torch.long) # make tensor from y_train\n",
    "\n",
    "X_train_var, y_train_var = Variable(X_train_tensor), Variable(y_train_tensor) # make variables from tensors\n",
    "\n",
    "X_valid_var, y_valid_var = X_train_var[:100], y_train_var[:100] # get first 100 events for validation\n",
    "X_train_nn_var, y_train_nn_var = X_train_var[100:], y_train_var[100:] # get remaining events for training\n",
    "\n",
    "# need train_loader for accuracy and loss calculation\n",
    "train_data = Data.TensorDataset(X_train_nn_var, y_train_nn_var) # create training dataset\n",
    "valid_data = Data.TensorDataset(X_valid_var, y_valid_var) # create validation dataset\n",
    "\n",
    "train_loader = Data.DataLoader(dataset=train_data, # PyTorch Dataset\n",
    "                               batch_size=batch_size, # how many samples per batch to load\n",
    "                               shuffle=True) # data reshuffled at every epoch\n",
    "\n",
    "valid_loader = Data.DataLoader(dataset=valid_data, # PyTorch Dataset\n",
    "                               batch_size=batch_size, # how many samples per batch to load\n",
    "                               shuffle=True) # data reshuffled at every epoch"
   ]
  },
  {
   "cell_type": "code",
   "execution_count": 80,
   "metadata": {},
   "outputs": [
    {
     "data": {
      "text/plain": [
       "'\\nfor batch, (x_train_batch, y_train_batch) in enumerate(train_loader): # loop over train_loader\\n    if batch == 0: print(batch, (x_train_batch, y_train_batch))\\n        \\nprint (len(train_loader.dataset)        )\\n'"
      ]
     },
     "execution_count": 80,
     "metadata": {},
     "output_type": "execute_result"
    }
   ],
   "source": [
    "'''\n",
    "for batch, (x_train_batch, y_train_batch) in enumerate(train_loader): # loop over train_loader\n",
    "    if batch == 0: print(batch, (x_train_batch, y_train_batch))\n",
    "        \n",
    "print (len(train_loader.dataset)        )\n",
    "'''"
   ]
  },
  {
   "cell_type": "code",
   "execution_count": 81,
   "metadata": {},
   "outputs": [],
   "source": [
    "# 10. NN structure\n",
    "\n",
    "class Classifier_MLP(nn.Module): # define Multi-Layer Perceptron\n",
    "    def __init__(self, in_dim, hidden_dim, out_dim): # initialise\n",
    "        super().__init__() # lets you avoid referring to the base class explicitly\n",
    "        \n",
    "        self.h1  = nn.Linear(in_dim, hidden_dim) # hidden layer 1\n",
    "        self.out = nn.Linear(hidden_dim, out_dim) # output layer\n",
    "        self.out_dim = out_dim # output layer dimension\n",
    "\n",
    "    def forward(self, x): # order of the layers\n",
    "        \n",
    "        x = F.relu(self.h1(x)) # relu activation function for hidden layer\n",
    "        x = self.out(x) # no activation function for output layer\n",
    "        \n",
    "        return x, F.softmax(x, dim=1) # SoftMax function\n",
    "    \n",
    "NN_clf = Classifier_MLP(in_dim=input_size, hidden_dim=hidden_size, out_dim=num_classes) # call Classifier_MLP class\n",
    "optimizer = torch.optim.SGD(NN_clf.parameters(), lr=learning_rate) # optimize model parameters    "
   ]
  },
  {
   "cell_type": "code",
   "execution_count": 82,
   "metadata": {},
   "outputs": [
    {
     "name": "stdout",
     "output_type": "stream",
     "text": [
      "Epoch: 0, Train Loss: 0.454595\n",
      "Validation Loss: 0.427019, Validation Accuracy: 0.830000\n",
      "Epoch: 1, Train Loss: 0.414833\n",
      "Validation Loss: 0.439326, Validation Accuracy: 0.830000\n",
      "Epoch: 2, Train Loss: 0.410521\n",
      "Validation Loss: 0.444151, Validation Accuracy: 0.830000\n",
      "Epoch: 3, Train Loss: 0.408350\n",
      "Validation Loss: 0.446893, Validation Accuracy: 0.830000\n",
      "Epoch: 4, Train Loss: 0.406790\n",
      "Validation Loss: 0.447957, Validation Accuracy: 0.830000\n",
      "Epoch: 5, Train Loss: 0.405457\n",
      "Validation Loss: 0.449288, Validation Accuracy: 0.830000\n",
      "Epoch: 6, Train Loss: 0.404180\n",
      "Validation Loss: 0.448908, Validation Accuracy: 0.830000\n",
      "Epoch: 7, Train Loss: 0.402852\n",
      "Validation Loss: 0.449932, Validation Accuracy: 0.830000\n",
      "Epoch: 8, Train Loss: 0.401366\n",
      "Validation Loss: 0.449707, Validation Accuracy: 0.830000\n",
      "Epoch: 9, Train Loss: 0.399696\n",
      "Validation Loss: 0.449844, Validation Accuracy: 0.840000\n",
      "Finished Training\n",
      "Final validation error:  16.000000000000004 %\n",
      "Final validation accuracy: 84.000000 %\n"
     ]
    }
   ],
   "source": [
    "# 11. NN training \n",
    "\n",
    "_results = [] # define empty list for epoch, train_loss, valid_loss, accuracy\n",
    "\n",
    "for epoch in range(epochs):  # loop over the dataset multiple times\n",
    "\n",
    "    # training loop for this epoch\n",
    "    NN_clf.train() # set the model into training mode\n",
    "    \n",
    "    train_loss = 0. # start training loss counter at 0\n",
    "    for batch, (x_train_batch, y_train_batch) in enumerate(train_loader): # loop over train_loader\n",
    "        \n",
    "        NN_clf.zero_grad() # set the gradients to zero before backpropragation because PyTorch accumulates the gradients\n",
    "        out, prob = NN_clf(x_train_batch) # get output and probability on this training batch\n",
    "        loss = F.cross_entropy(out, y_train_batch) # calculate loss as cross entropy\n",
    "        \n",
    "        loss.backward() # compute dloss/dx\n",
    "        optimizer.step() # updates the parameters\n",
    "        \n",
    "        train_loss += loss.item() * x_train_batch.size(0) # add to counter for training loss\n",
    "    \n",
    "    train_loss /= len(train_loader.dataset) # divide train loss by length of train_loader\n",
    "\n",
    "    if verbose: # if verbose flag set to True\n",
    "        print('Epoch: {}, Train Loss: {:4f}'.format(epoch, train_loss))\n",
    "\n",
    "    # validation loop for this epoch:\n",
    "    NN_clf.eval() # set the model into evaluation mode\n",
    "    with torch.no_grad():  # turn off the gradient calculations\n",
    "        \n",
    "        correct = 0; valid_loss = 0 # start counters for number of correct and validation loss\n",
    "        for i, (x_valid_batch, y_valid_batch) in enumerate(valid_loader): # loop over validation loader\n",
    "            \n",
    "            out, prob = NN_clf(x_valid_batch) # get output and probability on this validation batch\n",
    "            loss = F.cross_entropy(out, y_valid_batch) # compute loss as cross entropy\n",
    "            \n",
    "            valid_loss += loss.item() * x_valid_batch.size(0) # add to counter for validation loss\n",
    "            \n",
    "            preds = prob.argmax(dim=1, keepdim=True) # get predictions\n",
    "            correct += preds.eq(y_valid_batch.view_as(preds)).sum().item() # count number of correct\n",
    "            \n",
    "        valid_loss /= len(valid_loader.dataset) # divide validation loss by length of validation dataset\n",
    "        accuracy = correct / len(valid_loader.dataset) # calculate accuracy as number of correct divided by total\n",
    "\n",
    "    if verbose: # if verbose flag set to True\n",
    "        print('Validation Loss: {:4f}, Validation Accuracy: {:4f}'.format(valid_loss, accuracy))\n",
    "\n",
    "    # create output row:\n",
    "    _results.append([epoch, train_loss, valid_loss, accuracy])\n",
    "\n",
    "results = np.array(_results) # make array of results\n",
    "print('Finished Training')\n",
    "print(\"Final validation error: \",100.*(1 - accuracy),\"%\")\n",
    "print(\"Final validation accuracy: {:4f} %\".format(100*accuracy))"
   ]
  },
  {
   "cell_type": "code",
   "execution_count": 83,
   "metadata": {},
   "outputs": [
    {
     "name": "stdout",
     "output_type": "stream",
     "text": [
      "0.7781589672481445\n"
     ]
    }
   ],
   "source": [
    "# 12. Evaluate the NN model \n",
    "\n",
    "X_test_tensor = torch.as_tensor(X_test_scaled, dtype=torch.float) # make tensor from X_test_scaled\n",
    "y_test_tensor = torch.as_tensor(y_test, dtype=torch.long) # make tensor from y_test\n",
    "\n",
    "X_test_var, y_test_var = Variable(X_test_tensor), Variable(y_test_tensor) # make variables from tensors\n",
    "\n",
    "out, prob = NN_clf(X_test_var) # get output and probabilities from X_test\n",
    "# probability above 50% is assigned as signal\n",
    "y_pred_NN = prob.cpu().detach().numpy().argmax(axis=1) # get signal/background predictions\n",
    "\n",
    "# See how well the classifier does\n",
    "print(accuracy_score(y_test, y_pred_NN))"
   ]
  },
  {
   "attachments": {},
   "cell_type": "markdown",
   "metadata": {},
   "source": [
    "## 13. Overfitting\n",
    "Comparing a machine learning model’s output distribution for the training and testing set is a popular way in High Energy Physics to check for overfitting. The compare_train_test() method will plot the shape of the machine learning model’s decision function for each class, as well as overlaying it with the decision function in the training set. Overfitting means the model works well for training and not dfor testing sets. \n",
    "\n",
    "<img src=\"overfitting.png\" width=\"300\" height=\"300\">\n",
    "\n"
   ]
  },
  {
   "cell_type": "code",
   "execution_count": 16,
   "metadata": {},
   "outputs": [
    {
     "data": {
      "image/png": "[encoded data removed]",
      "text/plain": [
       "<Figure size 432x288 with 1 Axes>"
      ]
     },
     "metadata": {
      "needs_background": "light"
     },
     "output_type": "display_data"
    }
   ],
   "source": [
    "# 13. Check overfitting with comparing distributions\n",
    "# if dots are far from bars, then there is overtraining\n",
    "\n",
    "from my_functions import compare_train_test\n",
    "compare_train_test(RF_clf, X_train_scaled, y_train, X_test_scaled, y_test, 'Random Forest output')"
   ]
  },
  {
   "cell_type": "code",
   "execution_count": 17,
   "metadata": {},
   "outputs": [
    {
     "data": {
      "image/png": "[encoded data removed]",
      "text/plain": [
       "<Figure size 432x288 with 1 Axes>"
      ]
     },
     "metadata": {
      "needs_background": "light"
     },
     "output_type": "display_data"
    }
   ],
   "source": [
    "compare_train_test(NN_clf, X_train_scaled, y_train, X_test_scaled, y_test, 'NN output')"
   ]
  },
  {
   "attachments": {},
   "cell_type": "markdown",
   "metadata": {},
   "source": [
    "## 14-17. Alternative Metrics\n",
    "**Precision** is defined as precision=TP/TP+FP. It is the ratio of all things that were correctly classified as positive to all things that were classified as positive. Precision itself is an imperfect metric: a trivial way to have perfect precision is to make one single positive prediction and ensure it is correct (1/1=100%) but this would not be useful. This is equivalent to having a very high threshold. As such, precision is typically combined with another metric: recall.\n",
    "\n",
    "**Recall** is defined as recall=TP/TP+FN. It is the ratio of all things that were correctly classified as positive to all things that should have been classified as positive. Recall itself is also an imperfect metric: a trivial way to have perfect recall is to classify everything as positive; doing so, however, would result in a poor precision score. This is equivalent to having a very low threshold. As such, precision and recall need to be considered together."
   ]
  },
  {
   "cell_type": "code",
   "execution_count": 106,
   "metadata": {},
   "outputs": [
    {
     "name": "stdout",
     "output_type": "stream",
     "text": [
      "RandomForest report:\n",
      "              precision    recall  f1-score   support\n",
      "\n",
      "  background       0.87      0.89      0.88    182844\n",
      "      signal       0.61      0.54      0.57     54425\n",
      "\n",
      "    accuracy                           0.81    237269\n",
      "   macro avg       0.74      0.72      0.73    237269\n",
      "weighted avg       0.81      0.81      0.81    237269\n",
      "\n",
      "----------------------------------------------------------------\n",
      "NN report:\n",
      "              precision    recall  f1-score   support\n",
      "\n",
      "  background       0.78      0.99      0.87    182844\n",
      "      signal       0.66      0.07      0.12     54425\n",
      "\n",
      "    accuracy                           0.78    237269\n",
      "   macro avg       0.72      0.53      0.50    237269\n",
      "weighted avg       0.75      0.78      0.70    237269\n",
      "\n",
      "signal / Total event = 0.22557528677015076 %\n"
     ]
    }
   ],
   "source": [
    "# 14. Metrics for our Classifier\n",
    "\n",
    "from sklearn.metrics import classification_report, roc_auc_score\n",
    "# Random Forest Report\n",
    "print(\"RandomForest report:\")\n",
    "print (classification_report(y_test, y_pred_RF,\n",
    "                            target_names=[\"background\", \"signal\"]))\n",
    "print (\"----------------------------------------------------------------\")                            \n",
    "# Neural Network Report\n",
    "print(\"NN report:\")\n",
    "print (classification_report(y_test, y_pred_NN,\n",
    "                            target_names=[\"background\", \"signal\"])) \n",
    "\n",
    "print(\"signal / Total event =\",sig.shape[0]/(sig.shape[0] + bckg.shape[0]), \"%\")                            \n",
    "\n",
    "# Get probabilties for RF and NN\n",
    "decisions_rf = RF_clf.predict_proba(X_test_scaled)[:,1] # get the decisions of the random forest \n",
    "decisions_nn = NN_clf(X_test_var)[1][:,1].cpu().detach().numpy() # get the decisions of the neural network"
   ]
  },
  {
   "cell_type": "code",
   "execution_count": 104,
   "metadata": {},
   "outputs": [
    {
     "name": "stdout",
     "output_type": "stream",
     "text": [
      "(182844,)\n",
      "(54425,)\n",
      "(237269,)\n"
     ]
    }
   ],
   "source": [
    "print(decisions_rf[y_test==0].shape)\n",
    "print(decisions_rf[y_test==1].shape)\n",
    "print(decisions_rf.shape)"
   ]
  },
  {
   "cell_type": "code",
   "execution_count": 37,
   "metadata": {},
   "outputs": [
    {
     "data": {
      "text/plain": [
       "<matplotlib.legend.Legend at 0x7fb43c513e80>"
      ]
     },
     "execution_count": 37,
     "metadata": {},
     "output_type": "execute_result"
    },
    {
     "data": {
      "image/png": "[encoded data removed]",
      "text/plain": [
       "<Figure size 432x288 with 1 Axes>"
      ]
     },
     "metadata": {
      "needs_background": "light"
     },
     "output_type": "display_data"
    }
   ],
   "source": [
    "# 15. Signal and Background weight distributions for RF and NN\n",
    "\n",
    "plt.hist(decisions_rf[y_test==0], histtype='step', bins=50, label='Background Events') # plot background\n",
    "plt.hist(decisions_rf[y_test==1], histtype='step', bins=50, linestyle='dashed', label='Signal Events') # plot signal\n",
    "plt.xlabel('Threshold') # x-axis label\n",
    "plt.ylabel('Number of Events') # y-axis label\n",
    "plt.semilogy() # make the y-axis semi-log\n",
    "plt.legend() # draw the legend"
   ]
  },
  {
   "cell_type": "code",
   "execution_count": 57,
   "metadata": {},
   "outputs": [
    {
     "data": {
      "text/plain": [
       "<matplotlib.legend.Legend at 0x7fb47504b220>"
      ]
     },
     "execution_count": 57,
     "metadata": {},
     "output_type": "execute_result"
    },
    {
     "data": {
      "image/png": "[encoded data removed]",
      "text/plain": [
       "<Figure size 432x288 with 1 Axes>"
      ]
     },
     "metadata": {
      "needs_background": "light"
     },
     "output_type": "display_data"
    }
   ],
   "source": [
    "plt.hist(decisions_nn[y_test==0], histtype='step', bins=50, label='Background Events') # plot background\n",
    "plt.hist(decisions_nn[y_test==1], histtype='step', bins=50, linestyle='dashed', label='Signal Events') # plot signal\n",
    "plt.xlabel('Threshold') # x-axis label\n",
    "plt.ylabel('Number of Events') # y-axis label\n",
    "plt.semilogy() # make the y-axis semi-log\n",
    "plt.legend() # draw the legend"
   ]
  },
  {
   "cell_type": "code",
   "execution_count": 59,
   "metadata": {},
   "outputs": [
    {
     "data": {
      "text/plain": [
       "<matplotlib.legend.Legend at 0x7fb43c859f10>"
      ]
     },
     "execution_count": 59,
     "metadata": {},
     "output_type": "execute_result"
    },
    {
     "data": {
      "image/png": "[encoded data removed]",
      "text/plain": [
       "<Figure size 432x288 with 1 Axes>"
      ]
     },
     "metadata": {
      "needs_background": "light"
     },
     "output_type": "display_data"
    }
   ],
   "source": [
    "# 16. ROC curve\n",
    "\n",
    "from sklearn.metrics import roc_curve\n",
    "fpr_rf, tpr_rf, thresholds_rf = roc_curve(y_test, decisions_rf) # get FPRs, TPRs and thresholds for random forest\n",
    "fpr_nn, tpr_nn, thresholds_nn = roc_curve(y_test, decisions_nn) # get FPRs, TPRs and thresholds for neural network\n",
    "\n",
    "plt.plot(fpr_rf, tpr_rf, label='Random Forest') # plot random forest ROC\n",
    "plt.plot(fpr_nn, tpr_nn, linestyle='dashed', label='Neural Network') # plot neural network ROC\n",
    "plt.plot([0, 1], [0, 1], linestyle='dotted', color='grey', label='Luck') # plot diagonal line to indicate luck\n",
    "plt.xlabel('False Positive Rate') # x-axis label\n",
    "plt.ylabel('True Positive Rate') # y-axis label\n",
    "plt.grid() # add a grid to the plot\n",
    "plt.legend() # add a legend"
   ]
  },
  {
   "cell_type": "code",
   "execution_count": 60,
   "metadata": {},
   "outputs": [
    {
     "data": {
      "text/plain": [
       "<matplotlib.legend.Legend at 0x7fb43cd0ffd0>"
      ]
     },
     "execution_count": 60,
     "metadata": {},
     "output_type": "execute_result"
    },
    {
     "data": {
      "image/png": "[encoded data removed]",
      "text/plain": [
       "<Figure size 432x288 with 1 Axes>"
      ]
     },
     "metadata": {
      "needs_background": "light"
     },
     "output_type": "display_data"
    }
   ],
   "source": [
    "# 17. AMS for the best threshold\n",
    "\n",
    "def AMS(tpr, fpr, b_reg): # define function to calculate AMS\n",
    "    return np.sqrt(2*((tpr+fpr+b_reg)*np.log(1+tpr/(fpr+b_reg))-tpr)) # equation for AMS\n",
    "ams_rf = AMS(tpr_rf, fpr_rf, 0.001) # get AMS for random forest classifier\n",
    "ams_nn = AMS(tpr_nn, fpr_nn, 0.001) # get AMS for neural network\n",
    "\n",
    "plt.plot(thresholds_rf, ams_rf, label='Random Forest') # plot random forest AMS\n",
    "plt.plot(thresholds_nn, ams_nn, linestyle='dashed', label='Neural Network') # plot neural network AMS\n",
    "plt.xlabel('Threshold') # x-axis label\n",
    "plt.ylabel('AMS') # y-axis label\n",
    "plt.title('AMS with $b_r=0.001$') # add plot title\n",
    "plt.legend() # add legend"
   ]
  },
  {
   "attachments": {},
   "cell_type": "markdown",
   "metadata": {},
   "source": [
    "## Real ATLAS data\n",
    "Notice that we’ve trained and tested our machine learning models on simulated data for signal and background. That’s why there are definite labels, y. This has been a case of supervised learning since we knew the labels (y) going into the game. Your machine learning models would then usually be applied to real experimental data once you’re happy with them."
   ]
  },
  {
   "cell_type": "code",
   "execution_count": 109,
   "metadata": {},
   "outputs": [
    {
     "data": {
      "text/plain": [
       "(832, 2)"
      ]
     },
     "execution_count": 109,
     "metadata": {},
     "output_type": "execute_result"
    }
   ],
   "source": [
    "DataFrames['data'] = pd.read_csv('./Data/data.csv')\n",
    "\n",
    "#DataFrames['data'][ML_inputs]\n",
    "DataFrames['data'][ML_inputs].values.shape"
   ]
  },
  {
   "cell_type": "code",
   "execution_count": 112,
   "metadata": {},
   "outputs": [],
   "source": [
    "# 18. ATLAS real Data \n",
    "\n",
    "# Read Data file\n",
    "DataFrames['data'] = pd.read_csv('./Data/data.csv')\n",
    "\n",
    "# Apply cuts\n",
    "DataFrames['data'] = DataFrames['data'][ np.vectorize(cut_lep_type)(DataFrames['data'].lep_type_0,\n",
    "                                                                    DataFrames['data'].lep_type_1,\n",
    "                                                                    DataFrames['data'].lep_type_2,\n",
    "                                                                    DataFrames['data'].lep_type_3) ]\n",
    "DataFrames['data'] = DataFrames['data'][ np.vectorize(cut_lep_charge)(DataFrames['data'].lep_charge_0,\n",
    "                                                                      DataFrames['data'].lep_charge_1,\n",
    "                                                                      DataFrames['data'].lep_charge_2,\n",
    "                                                                      DataFrames['data'].lep_charge_3) ]\n",
    "\n",
    "X_data = DataFrames['data'][ML_inputs].values # .values converts straight to NumPy array\n",
    "X_data_scaled = scaler.transform(X_data) # scale X_data\n",
    "\n",
    "y_data_RF = RF_clf.predict(X_data_scaled) # make predictions on the data\n",
    "#out_data, prob_data = NN_clf(X_data_scaled) # get output and probabilities from X_test\n",
    "#y_data_NN = prob_data.cpu().detach().numpy().argmax(axis=1) # get signal/background predictions"
   ]
  },
  {
   "cell_type": "code",
   "execution_count": 81,
   "metadata": {},
   "outputs": [
    {
     "name": "stdout",
     "output_type": "stream",
     "text": [
      "91\n",
      "416\n"
     ]
    },
    {
     "data": {
      "image/png": "[encoded data removed]",
      "text/plain": [
       "<Figure size 432x288 with 1 Axes>"
      ]
     },
     "metadata": {
      "needs_background": "light"
     },
     "output_type": "display_data"
    }
   ],
   "source": [
    "labels = ['background','signal'] # labels for simulated data\n",
    "thresholds = [] # define list to hold random forest classifier probability predictions for each sample\n",
    "for s in samples: # loop over samples\n",
    "    thresholds.append(RF_clf.predict_proba(scaler.transform(DataFrames[s][ML_inputs]))[:,1]) # predict probabilities for each sample\n",
    "plt.hist(thresholds, bins=np.arange(0, 0.8, 0.1), density=True, stacked=True, label=labels) # plot simulated data\n",
    "data_hist = np.histogram(RF_clf.predict_proba(X_data_scaled)[:,1], bins=np.arange(0, 0.8, 0.1), density=True)[0] # histogram the experimental data\n",
    "scale = sum(RF_clf.predict_proba(X_data_scaled)[:,1]) / sum(data_hist) # get scale imposed by density=True\n",
    "data_err = np.sqrt(data_hist * scale) / scale # get error on experimental data\n",
    "plt.errorbar(x=np.arange(0.05, 0.75, 0.1), y=data_hist, yerr=data_err, label='Data') # plot the experimental data errorbars\n",
    "plt.xlabel('Threshold')\n",
    "plt.legend() \n",
    "\n",
    "DataFrames['data'].shape\n",
    "print(np.count_nonzero(y_data_RF==1))\n",
    "print(np.count_nonzero(y_data_RF==0))"
   ]
  },
  {
   "cell_type": "code",
   "execution_count": 84,
   "metadata": {},
   "outputs": [
    {
     "name": "stdout",
     "output_type": "stream",
     "text": [
      "Epoch 1/5\n",
      "14348/14348 [==============================] - 7s 508us/step - loss: 0.4510 - accuracy: 0.7613 - val_loss: 0.4316 - val_accuracy: 0.7100\n",
      "Epoch 2/5\n",
      "14348/14348 [==============================] - 7s 488us/step - loss: 0.4170 - accuracy: 0.7539 - val_loss: 0.4204 - val_accuracy: 0.7200\n",
      "Epoch 3/5\n",
      "14348/14348 [==============================] - 7s 498us/step - loss: 0.4126 - accuracy: 0.7639 - val_loss: 0.4135 - val_accuracy: 0.7200\n",
      "Epoch 4/5\n",
      "14348/14348 [==============================] - 7s 490us/step - loss: 0.4091 - accuracy: 0.7645 - val_loss: 0.4089 - val_accuracy: 0.7200\n",
      "Epoch 5/5\n",
      "14348/14348 [==============================] - 7s 485us/step - loss: 0.4058 - accuracy: 0.7652 - val_loss: 0.4044 - val_accuracy: 0.7200\n"
     ]
    },
    {
     "name": "stderr",
     "output_type": "stream",
     "text": [
      "/Library/Frameworks/Python.framework/Versions/3.9/lib/python3.9/site-packages/tensorflow/python/keras/engine/sequential.py:455: UserWarning: `model.predict_classes()` is deprecated and will be removed after 2021-01-01. Please use instead:* `np.argmax(model.predict(x), axis=-1)`,   if your model does multi-class classification   (e.g. if it uses a `softmax` last-layer activation).* `(model.predict(x) > 0.5).astype(\"int32\")`,   if your model does binary classification   (e.g. if it uses a `sigmoid` last-layer activation).\n",
      "  warnings.warn('`model.predict_classes()` is deprecated and '\n"
     ]
    },
    {
     "name": "stdout",
     "output_type": "stream",
     "text": [
      "Accuracy: 0.7673453146760395\n"
     ]
    }
   ],
   "source": [
    "# 19. TF for NN model\n",
    "\n",
    "from tensorflow import keras # tensorflow wrapper\n",
    "from tensorflow.random import set_seed # import set_seed function for TensorFlow\n",
    "set_seed(seed_value) # set TensorFlow random seed\n",
    "\n",
    "# Function to build the NN model\n",
    "def build_model(n_hidden=1, n_neurons=5, learning_rate=1e-3): # function to build a neural network model\n",
    "    # Build\n",
    "    model = keras.models.Sequential() # initialise the model\n",
    "    for layer in range(n_hidden): # loop over hidden layers\n",
    "        model.add(keras.layers.Dense(n_neurons, activation=\"relu\")) # add layer to your model\n",
    "    model.add(keras.layers.Dense(2, activation='softmax')) # add output layer\n",
    "    # Compile\n",
    "    optimizer = keras.optimizers.SGD(learning_rate=learning_rate) # define the optimizer\n",
    "    model.compile(loss='sparse_categorical_crossentropy', optimizer=optimizer, metrics=['accuracy']) # compile your model\n",
    "    return model\n",
    "\n",
    "# Define train and validation X and Y\n",
    "X_valid_scaled, X_train_nn_scaled = X_train_scaled[:100], X_train_scaled[100:] # first 100 events for validation\n",
    "y_valid, y_train_nn = y_train[:100], y_train[100:] # first 100 events for validation\n",
    "\n",
    "# Train the NN model\n",
    "tf_clf = keras.wrappers.scikit_learn.KerasClassifier(build_model) # call the build_model function defined earlier\n",
    "tf_clf.fit(X_train_nn_scaled, y_train_nn, validation_data=(X_valid_scaled, y_valid), epochs=10) # fit your neural network\n",
    "\n",
    "# Compute accuracy -- should be the same for pytorch\n",
    "y_pred_tf = tf_clf.predict(X_test_scaled)\n",
    "print(\"Accuracy: {}\".format(accuracy_score(y_test, y_pred_tf)))"
   ]
  },
  {
   "cell_type": "code",
   "execution_count": 86,
   "metadata": {},
   "outputs": [
    {
     "data": {
      "image/png": "[encoded data removed]",
      "text/plain": [
       "<Figure size 432x288 with 1 Axes>"
      ]
     },
     "metadata": {
      "needs_background": "light"
     },
     "output_type": "display_data"
    }
   ],
   "source": [
    "compare_train_test(tf_clf, X_train_nn_scaled, y_train_nn, X_test_scaled, y_test, 'TensorFlow Neural Network output')"
   ]
  },
  {
   "cell_type": "code",
   "execution_count": 88,
   "metadata": {},
   "outputs": [
    {
     "name": "stdout",
     "output_type": "stream",
     "text": [
      "              precision    recall  f1-score   support\n",
      "\n",
      "  background       0.77      0.99      0.87    172891\n",
      "      signal       0.60      0.04      0.07     53294\n",
      "\n",
      "    accuracy                           0.77    226185\n",
      "   macro avg       0.68      0.52      0.47    226185\n",
      "weighted avg       0.73      0.77      0.68    226185\n",
      "\n"
     ]
    },
    {
     "data": {
      "text/plain": [
       "<matplotlib.legend.Legend at 0x7fb45426b610>"
      ]
     },
     "execution_count": 88,
     "metadata": {},
     "output_type": "execute_result"
    },
    {
     "data": {
      "image/png": "[encoded data removed]",
      "text/plain": [
       "<Figure size 432x288 with 1 Axes>"
      ]
     },
     "metadata": {
      "needs_background": "light"
     },
     "output_type": "display_data"
    }
   ],
   "source": [
    "# 20. TF Neural Network Report and ROC curve\n",
    "\n",
    "print (classification_report(y_test, y_pred_tf,\n",
    "                            target_names=[\"background\", \"signal\"]))\n",
    "\n",
    "decisions_tf = tf_clf.predict_proba(X_test_scaled)[:,1] # get the decisions of the TensorFlow neural network\n",
    "fpr_tf, tpr_tf, thresholds_tf = roc_curve(y_test, decisions_tf) # get FPRs, TPRs and thresholds for TensorFlow neural network\n",
    "\n",
    "plt.plot(fpr_rf, tpr_rf, label='Random Forest') # plot random forest ROC\n",
    "plt.plot(fpr_nn, tpr_nn, linestyle='dashed', label='PyTorch Neural Network') # plot PyTorch neural network ROC\n",
    "plt.plot(fpr_tf, tpr_tf, linestyle='dashdot', label='TensorFlow Neural Network') # plot TensorFlow neural network ROC\n",
    "plt.plot([0, 1], [0, 1], linestyle='dotted', color='grey', label='Luck') # plot diagonal line to indicate luck\n",
    "plt.xlabel('False Positive Rate') # x-axis label\n",
    "plt.ylabel('True Positive Rate') # y-axis label\n",
    "plt.grid() # add a grid to the plot\n",
    "plt.legend() # add a legend"
   ]
  },
  {
   "cell_type": "code",
   "execution_count": 89,
   "metadata": {},
   "outputs": [
    {
     "data": {
      "text/plain": [
       "<matplotlib.legend.Legend at 0x7fb3d06d8f40>"
      ]
     },
     "execution_count": 89,
     "metadata": {},
     "output_type": "execute_result"
    },
    {
     "data": {
      "image/png": "[encoded data removed]",
      "text/plain": [
       "<Figure size 432x288 with 1 Axes>"
      ]
     },
     "metadata": {
      "needs_background": "light"
     },
     "output_type": "display_data"
    }
   ],
   "source": [
    "# 21. TF AMS computation\n",
    "\n",
    "ams_tf = AMS(tpr_tf, fpr_tf, 0.001) # get AMS for TensorFlow neural network\n",
    "\n",
    "plt.plot(thresholds_rf, ams_rf, label='Random Forest') # plot random forest AMS\n",
    "plt.plot(thresholds_nn, ams_nn, linestyle='dashed', label='PyTorch Neural Network') # plot PyTorch neural network AMS\n",
    "plt.plot(thresholds_tf, ams_tf, linestyle='dashdot', label='TensorFlow Neural Network') # plot TensorFlow neural network AMS\n",
    "plt.xlabel('Threshold') # x-axis label\n",
    "plt.ylabel('AMS') # y-axis label\n",
    "plt.title('AMS with $b_r=0.001$') # add plot title\n",
    "plt.legend() # add a legend"
   ]
  }
 ],
 "metadata": {
  "kernelspec": {
   "display_name": "Python 3",
   "language": "python",
   "name": "python3"
  },
  "language_info": {
   "codemirror_mode": {
    "name": "ipython",
    "version": 3
   },
   "file_extension": ".py",
   "mimetype": "text/x-python",
   "name": "python",
   "nbconvert_exporter": "python",
   "pygments_lexer": "ipython3",
   "version": "3.9.1"
  },
  "vscode": {
   "interpreter": {
    "hash": "aee8b7b246df8f9039afb4144a1f6fd8d2ca17a180786b69acc140d282b71a49"
   }
  }
 },
 "nbformat": 4,
 "nbformat_minor": 4
}
