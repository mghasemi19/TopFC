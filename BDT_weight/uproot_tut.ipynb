{
 "cells": [
  {
   "cell_type": "code",
   "execution_count": 53,
   "metadata": {},
   "outputs": [],
   "source": [
    "import uproot\n",
    "import awkward as ak\n",
    "import matplotlib.pyplot as plt\n",
    "import numpy as np"
   ]
  },
  {
   "cell_type": "code",
   "execution_count": 6,
   "metadata": {},
   "outputs": [
    {
     "name": "stdout",
     "output_type": "stream",
     "text": [
      "file: <ReadOnlyDirectory '/' at 0x7fb63037dc40>\n",
      "keys: ['Events;1']\n",
      "classnames: {'Events;1': 'TTree'}\n",
      "<TTree 'Events' (6 branches) at 0x7fb630aa7b20>\n"
     ]
    }
   ],
   "source": [
    "# Basic\n",
    "file = uproot.open('uproot-tutorial-file.root')\n",
    "print(\"file:\", file)\n",
    "print(\"keys:\", file.keys())\n",
    "print(\"classnames:\", file.classnames())\n",
    "print(file['Events'])"
   ]
  },
  {
   "cell_type": "code",
   "execution_count": 41,
   "metadata": {},
   "outputs": [
    {
     "name": "stdout",
     "output_type": "stream",
     "text": [
      "['nMuon', 'Muon_pt', 'Muon_eta', 'Muon_phi', 'Muon_mass', 'Muon_charge']\n",
      "[{nMuon: 2, Muon_pt: [10.8, 15.7], Muon_eta: [1.07, ...], ...}, ..., {...}]\n",
      "{nMuon: 2, Muon_pt: [8.82, 17.6], Muon_eta: [1.65, ...], Muon_phi: [...], ...}\n",
      "{nMuon: 2, Muon_pt: [3.44, 12.8], Muon_eta: [2.14, ...], Muon_phi: [...], ...}\n",
      "<class 'awkward.highlevel.Array'>\n",
      "{nMuon: 2, Muon_pt: [10.8, 15.7], Muon_eta: [1.07, ...], Muon_phi: [...], ...}\n",
      "{'nMuon': 2, 'Muon_pt': [10.763696670532227, 15.736522674560547], 'Muon_eta': [1.0668272972106934, -0.563786506652832], 'Muon_phi': [-0.03427272289991379, 2.5426154136657715], 'Muon_mass': [0.10565836727619171, 0.10565836727619171], 'Muon_charge': [-1, -1]}\n",
      "[2, 2, 1, 4, 4, 3, 2, 2, 2, 2, 2, 2, 6, ..., 5, 2, 1, 3, 2, 1, 0, 3, 2, 3, 2, 3]\n",
      "<class 'awkward.highlevel.Array'>\n",
      "[[10.8, 15.7], [10.5, 16.3], [3.28], ..., [3.31, 15.7], [11.4, 3.08, 4.97]]\n",
      "[10.8, 15.7]\n",
      "[10.8, 15.7]\n",
      "[10.5, 16.3]\n",
      "[3.28]\n",
      "[11.4, 17.6, 9.62, 3.5]\n",
      "[3.28, 3.64, 32.9, 23.7]\n",
      "[3.57, 4.57, 4.37]\n",
      "[57.6, 53]\n",
      "[11.3, 23.9]\n",
      "[10.2, 14.2]\n",
      "[11.5, 3.47]\n"
     ]
    }
   ],
   "source": [
    "# Trees\n",
    "tree = file['Events']\n",
    "print(tree.keys())\n",
    "print(tree.arrays())\n",
    "print(tree.arrays()[10])\n",
    "print(tree.arrays()[20])\n",
    "\n",
    "# Branches\n",
    "branches = tree.arrays()\n",
    "print(type(branches))\n",
    "print(branches[0])          # ugly print\n",
    "print(branches[0].tolist())\n",
    "print(branches['nMuon'])\n",
    "print(type(branches['nMuon']))\n",
    "print(branches['Muon_pt'])\n",
    "\n",
    "# Event\n",
    "print(branches['Muon_pt'][0])\n",
    "for i in range(10):\n",
    "    print(branches['Muon_pt'][i])"
   ]
  },
  {
   "cell_type": "code",
   "execution_count": 26,
   "metadata": {},
   "outputs": [
    {
     "data": {
      "text/plain": [
       "(array([8.7359e+04, 1.2253e+04, 3.5600e+02, 2.8000e+01, 2.0000e+00,\n",
       "        1.0000e+00, 0.0000e+00, 0.0000e+00, 0.0000e+00, 1.0000e+00]),\n",
       " array([ 0. ,  3.9,  7.8, 11.7, 15.6, 19.5, 23.4, 27.3, 31.2, 35.1, 39. ]),\n",
       " <BarContainer object of 10 artists>)"
      ]
     },
     "execution_count": 26,
     "metadata": {},
     "output_type": "execute_result"
    },
    {
     "data": {
      "image/png": "[encoded data removed]",
      "text/plain": [
       "<Figure size 432x288 with 1 Axes>"
      ]
     },
     "metadata": {
      "needs_background": "light"
     },
     "output_type": "display_data"
    }
   ],
   "source": [
    "plt.hist(branches['nMuon'])"
   ]
  },
  {
   "cell_type": "code",
   "execution_count": 31,
   "metadata": {},
   "outputs": [
    {
     "data": {
      "image/png": "[encoded data removed]",
      "text/plain": [
       "<Figure size 432x288 with 1 Axes>"
      ]
     },
     "metadata": {
      "needs_background": "light"
     },
     "output_type": "display_data"
    }
   ],
   "source": [
    "# Plotting\n",
    "plt.hist(branches['nMuon'], bins=10, range=(0, 10))\n",
    "plt.xlabel('Number of muons in event')\n",
    "plt.ylabel('Number of events')\n",
    "plt.show()"
   ]
  },
  {
   "cell_type": "code",
   "execution_count": null,
   "metadata": {},
   "outputs": [],
   "source": [
    "# Math operation\n",
    "#print(\"mean:\", np.mean(branches['nMuon']))\n",
    "#print(\"std:\", np.std(branches['nMuon']))\n",
    "#print(\"max:\", np.min(branches['nMuon']))\n",
    "#print(\"min:\", np.max(branches['nMuon']))\n",
    "#np.std(branches['nMuon'])\n",
    "#ak.mean(branches['nMuon'])\n",
    "\n",
    "ak.flatten(branches['Muon_pt'])\n",
    "branches['Muon_pt']\n"
   ]
  },
  {
   "cell_type": "code",
   "execution_count": 63,
   "metadata": {},
   "outputs": [
    {
     "name": "stdout",
     "output_type": "stream",
     "text": [
      "[10.8, 15.7, 10.5, 16.3, 3.28, 11.4, ..., 5.09, 3.31, 15.7, 11.4, 3.08, 4.97]\n",
      "[[10.8, 15.7], [10.5, 16.3], [3.28], ..., [3.31, 15.7], [11.4, 3.08, 4.97]]\n"
     ]
    },
    {
     "data": {
      "image/png": "[encoded data removed]",
      "text/plain": [
       "<Figure size 432x288 with 1 Axes>"
      ]
     },
     "metadata": {
      "needs_background": "light"
     },
     "output_type": "display_data"
    }
   ],
   "source": [
    "# Log scale plotting\n",
    "print(ak.flatten(branches['Muon_pt']))\n",
    "print(branches['Muon_pt'])\n",
    "\n",
    "plt.hist(ak.flatten(branches['Muon_pt']), bins=100, range=(0, 100))\n",
    "plt.xlabel('Muon $p_{\\mathrm{T}}$ [GeV]')\n",
    "plt.ylabel('Number of muons / 1 GeV')\n",
    "plt.yscale('log')\n",
    "plt.show()"
   ]
  },
  {
   "cell_type": "code",
   "execution_count": 64,
   "metadata": {},
   "outputs": [
    {
     "name": "stdout",
     "output_type": "stream",
     "text": [
      "100000\n",
      "100000\n",
      "100000\n"
     ]
    }
   ],
   "source": [
    "# Counting\n",
    "print(len(branches))\n",
    "print(len(branches['nMuon']))\n",
    "print(len(branches['Muon_pt']))  # or any of the other branches...)\n",
    "\n",
    "\n"
   ]
  }
 ],
 "metadata": {
  "kernelspec": {
   "display_name": "Python 3",
   "language": "python",
   "name": "python3"
  },
  "language_info": {
   "codemirror_mode": {
    "name": "ipython",
    "version": 3
   },
   "file_extension": ".py",
   "mimetype": "text/x-python",
   "name": "python",
   "nbconvert_exporter": "python",
   "pygments_lexer": "ipython3",
   "version": "3.9.1"
  },
  "orig_nbformat": 4,
  "vscode": {
   "interpreter": {
    "hash": "aee8b7b246df8f9039afb4144a1f6fd8d2ca17a180786b69acc140d282b71a49"
   }
  }
 },
 "nbformat": 4,
 "nbformat_minor": 2
}
