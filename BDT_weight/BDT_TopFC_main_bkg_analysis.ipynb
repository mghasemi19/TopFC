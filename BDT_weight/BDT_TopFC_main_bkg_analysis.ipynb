{
 "cells": [
  {
   "attachments": {},
   "cell_type": "markdown",
   "metadata": {},
   "source": [
    "# BDT in TopFC analysis\n",
    "Author: Meisam Ghasemi Bostanabad"
   ]
  },
  {
   "cell_type": "markdown",
   "metadata": {},
   "source": [
    "## Loading `pandas` DataFrames\n",
    "Now we load two different `NumPy` arrays. One corresponding to the VV signal and one corresponding to the background."
   ]
  },
  {
   "cell_type": "code",
   "execution_count": 1,
   "metadata": {},
   "outputs": [],
   "source": [
    "import uproot\n",
    "import numpy as np\n",
    "import pandas as pd\n",
    "import h5py\n",
    "import awkward as ak\n",
    "import seaborn as sns\n",
    "import matplotlib.pyplot as plt\n",
    "\n",
    "# fix random seed for reproducibility\n",
    "seed = 7\n",
    "np.random.seed(seed)\n",
    "\n",
    "filename = {\n",
    "    'ttbar':'/Users/mghasemi/Desktop/IPM/plotter/newtrees/ttbar.root',\n",
    "    'WZ':'/Users/mghasemi/Desktop/IPM/plotter/newtrees/WZ.root',\n",
    "    'ZZ':'/Users/mghasemi/Desktop/IPM/plotter/newtrees/ZZ.root',\n",
    "    'signal_charm':'/Users/mghasemi/Desktop/IPM/plotter/newtrees/signal_charm.root'\n",
    "    }\n",
    "\n",
    "'''\n",
    "filename = {\n",
    "    'ttbar':'/Users/mghasemi/Desktop/IPM/plotter/newtrees/ttbar.root',\n",
    "    'WZ':'/Users/mghasemi/Desktop/IPM/plotter/newtrees/WZ.root',\n",
    "    'ZZ':'/Users/mghasemi/Desktop/IPM/plotter/newtrees/ZZ.root',\n",
    "    'signal_up':'/Users/mghasemi/Desktop/IPM/plotter/newtrees/signal_up.root'}\n",
    "    }\n",
    "'''\n",
    "\n",
    "upfile = {}\n",
    "params = {}\n",
    "df = {}\n",
    "\n",
    "# choose which vars to use (multi dimensional)\n",
    "#VARS = ['jetNo','jetPTLeading','bjetPT','elecPTLeading','met','testnonTopMass', 'weight'] # choose which vars to use (2d)\n",
    "VARS = ['jetNo','jetPTLeading', 'jetETA', 'jetPHI','bjetPT', 'bjetETA',\n",
    "        'elecPTLeading', 'elecETA', 'elecPHI',\n",
    "        'dielecCOS', 'dielecETA', 'met','testnonTopMass'] # choose which vars to use (2d)\n",
    "\n",
    "# define trees and branches to make DataFrame\n",
    "for treename in filename.keys():\n",
    "    upfile[treename] = uproot.open(filename[treename])\n",
    "    params[treename] = upfile[treename][treename].arrays(VARS)\n",
    "    df[treename] = ak.to_dataframe(params[treename])\n",
    "    # add isSignal variable\n",
    "    if treename.startswith(\"signal\"): \n",
    "        df[treename]['isSignal'] = np.ones(len(df[treename])) \n",
    "    else:\n",
    "        df[treename]['isSignal'] = np.zeros(len(df[treename])) "
   ]
  },
  {
   "attachments": {},
   "cell_type": "markdown",
   "metadata": {},
   "source": [
    "## Data exploration"
   ]
  },
  {
   "cell_type": "code",
   "execution_count": 2,
   "metadata": {},
   "outputs": [],
   "source": [
    "# reduce signal DF size to have resonable Sig/Bkg ratio\n",
    "df['signal_charm'] = df['signal_charm'][:3500]\n",
    "df_all = pd.concat([df[treename] for treename in filename.keys()])"
   ]
  },
  {
   "cell_type": "code",
   "execution_count": 42,
   "metadata": {},
   "outputs": [
    {
     "name": "stdout",
     "output_type": "stream",
     "text": [
      "ttbar : (915, 14)\n",
      "WZ : (2176, 14)\n",
      "ZZ : (174, 14)\n",
      "signal_charm : (94643, 14)\n",
      "signal/tot bkg: 29.0\n"
     ]
    }
   ],
   "source": [
    "# number of entries in the backgrounds and signals\n",
    "tot_bkg = 0\n",
    "for treename in filename.keys():\n",
    "    if not 'signal' in treename: tot_bkg += df[treename].shape[0]\n",
    "    print(treename, \":\", df[treename].shape)\n",
    "\n",
    "print(\"signal/tot bkg:\", round((df['signal_charm'].shape[0]/ tot_bkg),1))\n",
    "#print(\"Null entries:\", df['signal_charm'].isna().sum())"
   ]
  },
  {
   "cell_type": "code",
   "execution_count": 4,
   "metadata": {},
   "outputs": [],
   "source": [
    "# function to make ML output and significant plot\n",
    "samples =['ttbar', 'WZ', 'ZZ', 'signal_charm']\n",
    "\n",
    "def plot_SoverB(data, SoverB_hist_dict):\n",
    "    \n",
    "    signal = r'signal_charm' # which sample is the signal\n",
    "\n",
    "    # *******************\n",
    "    # general definitions (shouldn't need to change)\n",
    "\n",
    "    for x_variable,hist in SoverB_hist_dict.items(): # access the dictionary of histograms defined in the cell above\n",
    "\n",
    "        h_bin_width = hist['bin_width'] # get the bin width defined in the cell above\n",
    "        h_num_bins = hist['num_bins'] # get the number of bins defined in the cell above\n",
    "        h_xrange_min = hist['xrange_min'] # get the x-range minimum defined in the cell above\n",
    "        h_xlabel = hist['xlabel'] # get the x-axis label defined in the cell above\n",
    "    \n",
    "        bin_edges = [ h_xrange_min + x*h_bin_width for x in range(h_num_bins+1) ] # bin limits\n",
    "        bin_centres = [ h_xrange_min+h_bin_width/2 + x*h_bin_width for x in range(h_num_bins) ] # bin centres\n",
    "        \n",
    "        signal_x = data[signal][x_variable] # histogram the signal\n",
    "    \n",
    "        mc_x = [] # define list to hold the Monte Carlo histogram entries\n",
    "\n",
    "        for s in samples: # loop over samples\n",
    "            if s not in ['data', signal]: # if not data nor signal\n",
    "                mc_x = [*mc_x, *data[s][x_variable] ] # append to the list of Monte Carlo histogram entries\n",
    "                #test=[]; test.append(df[s]['NN_output_prob'].values)\n",
    "\n",
    "\n",
    "    \n",
    "    \n",
    "        # *************\n",
    "        # Signal and background distributions\n",
    "        # *************\n",
    "        distributions_axes = plt.gca() # get current axes\n",
    " \n",
    "        mc_heights = distributions_axes.hist(mc_x, bins=bin_edges, color='red', \n",
    "                                             label='Total background',\n",
    "                                             histtype='step', # lineplot that's unfilled\n",
    "                                             density=True ) # normalize to form probability density\n",
    "        signal_heights = distributions_axes.hist(signal_x, bins=bin_edges, color='blue',\n",
    "                                                 label=signal, \n",
    "                                                 histtype='step', # lineplot that's unfilled\n",
    "                                                 density=True, # normalize to form probability density\n",
    "                                                 linestyle='--' ) # dashed line\n",
    "        \n",
    "        distributions_axes.set_xlim( left=bin_edges[0], right=bin_edges[-1] ) # x-limits of the distributions axes\n",
    "        distributions_axes.set_ylabel('Arbitrary units' ) # y-axis label for distributions axes\n",
    "        y_max = max(max(signal_heights[0]), max(mc_heights[0]) )\n",
    "        #distributions_axes.set_ylim( top=max(signal_heights[0])*1.3 ) # set y-axis limits\n",
    "        distributions_axes.set_ylim( top=y_max*1.2 ) # set y-axis limits\n",
    "        #distributions_axes.set_ylim( top=max(signal_heights[0])*1.3 ) # set y-axis limits\n",
    "        plt.title('Signal and background '+x_variable+' distributions') # add title\n",
    "        distributions_axes.legend() # draw the legend\n",
    "        distributions_axes.set_xlabel( h_xlabel ) # x-axis label\n",
    "            \n",
    "        plt.show() # show the Signal and background distributions\n",
    "    \n",
    "    \n",
    "        # *************\n",
    "        # Signal to background ratio\n",
    "        # *************\n",
    "        plt.figure() # start new figure\n",
    "        SoverB = [] # list to hold S/B values\n",
    "        for cut_value in bin_edges: # loop over bins\n",
    "            #signal_weights_passing_cut = sum(data[signal][data[signal][x_variable]>cut_value].totalWeight)\n",
    "            signal_weights_passing_cut = len(data[signal][data[signal][x_variable]>cut_value])\n",
    "            background_weights_passing_cut = 0 # start counter for background weights passing cut\n",
    "            for s in samples: # loop over samples\n",
    "                if s not in ['data', signal]: # if not data nor signal\n",
    "                    #background_weights_passing_cut += sum(data[s][data[s][x_variable]>cut_value].totalWeight)\n",
    "                    background_weights_passing_cut += len(data[s][data[s][x_variable]>cut_value])\n",
    "            if background_weights_passing_cut!=0: # some background passes cut\n",
    "                SoverB_value = signal_weights_passing_cut/background_weights_passing_cut\n",
    "                SoverB_percent = 100*SoverB_value # multiply by 100 for percentage\n",
    "                SoverB.append(SoverB_percent) # append to list of S/B values\n",
    "        \n",
    "        SoverB_axes = plt.gca() # get current axes\n",
    "        SoverB_axes.plot( bin_edges[:len(SoverB)], SoverB ) # plot the data points\n",
    "        SoverB_axes.set_xlim( left=bin_edges[0], right=bin_edges[-1] ) # set the x-limit of the main axes\n",
    "        #SoverB_axes.set_ylim( 100, 1000)\n",
    "        SoverB_axes.set_ylabel( 'S/B (%)' ) # write y-axis label for main axes\n",
    "        plt.title('Signal to background ratio for different '+x_variable+' cut values', family='sans-serif')\n",
    "        SoverB_axes.set_xlabel( h_xlabel ) # x-axis label \n",
    "        \n",
    "        plt.show() # show S/B plot\n",
    "    \n",
    "    return"
   ]
  },
  {
   "attachments": {},
   "cell_type": "markdown",
   "metadata": {},
   "source": [
    "## simple BDT in sklearn\n",
    "In gradient boosting, an ensemble of weak learners is used to improve the performance of a machine learning model. The weak learners are usually decision trees. Combined, their output results in better models. "
   ]
  },
  {
   "cell_type": "code",
   "execution_count": 26,
   "metadata": {},
   "outputs": [
    {
     "ename": "AttributeError",
     "evalue": "'DecisionTreeClassifier' object has no attribute 'decision_function'",
     "output_type": "error",
     "traceback": [
      "\u001b[0;31m---------------------------------------------------------------------------\u001b[0m",
      "\u001b[0;31mAttributeError\u001b[0m                            Traceback (most recent call last)",
      "\u001b[0;32m<ipython-input-26-dd78679d3900>\u001b[0m in \u001b[0;36m<module>\u001b[0;34m\u001b[0m\n\u001b[1;32m      1\u001b[0m \u001b[0;31m#dtree.predict_proba(scaler.transform(X))\u001b[0m\u001b[0;34m\u001b[0m\u001b[0;34m\u001b[0m\u001b[0;34m\u001b[0m\u001b[0m\n\u001b[1;32m      2\u001b[0m \u001b[0;31m#dtree.predict(scaler.transform(X))\u001b[0m\u001b[0;34m\u001b[0m\u001b[0;34m\u001b[0m\u001b[0;34m\u001b[0m\u001b[0m\n\u001b[0;32m----> 3\u001b[0;31m \u001b[0mdtree\u001b[0m\u001b[0;34m.\u001b[0m\u001b[0mdecision_function\u001b[0m\u001b[0;34m(\u001b[0m\u001b[0mscaler\u001b[0m\u001b[0;34m.\u001b[0m\u001b[0mtransform\u001b[0m\u001b[0;34m(\u001b[0m\u001b[0mX\u001b[0m\u001b[0;34m)\u001b[0m\u001b[0;34m)\u001b[0m\u001b[0;34m\u001b[0m\u001b[0;34m\u001b[0m\u001b[0m\n\u001b[0m",
      "\u001b[0;31mAttributeError\u001b[0m: 'DecisionTreeClassifier' object has no attribute 'decision_function'"
     ]
    }
   ],
   "source": [
    "#dtree.predict_proba(scaler.transform(X))\n",
    "#dtree.predict(scaler.transform(X))\n",
    "dtree.decision_function(scaler.transform(X))"
   ]
  },
  {
   "cell_type": "code",
   "execution_count": 36,
   "metadata": {},
   "outputs": [
    {
     "name": "stdout",
     "output_type": "stream",
     "text": [
      "Accuracy score report for the test set\n",
      "0.8625167935512763\n",
      "Accuracy score report for the total set\n",
      "0.9546193643754619\n",
      "\n",
      "Classification report for the test set\n",
      "              precision    recall  f1-score   support\n",
      "\n",
      "  background       0.85      0.88      0.86      1083\n",
      "      signal       0.88      0.85      0.86      1150\n",
      "\n",
      "    accuracy                           0.86      2233\n",
      "   macro avg       0.86      0.86      0.86      2233\n",
      "weighted avg       0.86      0.86      0.86      2233\n",
      "\n",
      "\n",
      "Classification report for the total set\n",
      "              precision    recall  f1-score   support\n",
      "\n",
      "  background       0.95      0.96      0.95      3265\n",
      "      signal       0.96      0.95      0.96      3500\n",
      "\n",
      "    accuracy                           0.95      6765\n",
      "   macro avg       0.95      0.95      0.95      6765\n",
      "weighted avg       0.95      0.95      0.95      6765\n",
      "\n"
     ]
    },
    {
     "data": {
      "image/png": "[encoded data removed]",
      "text/plain": [
       "<Figure size 432x288 with 1 Axes>"
      ]
     },
     "metadata": {
      "needs_background": "light"
     },
     "output_type": "display_data"
    },
    {
     "data": {
      "image/png": "[encoded data removed]",
      "text/plain": [
       "<Figure size 432x288 with 1 Axes>"
      ]
     },
     "metadata": {
      "needs_background": "light"
     },
     "output_type": "display_data"
    }
   ],
   "source": [
    "NDIM = len(VARS)\n",
    "dataset = df_all.values\n",
    "X = dataset[:,0:NDIM]\n",
    "Y = dataset[:,NDIM]\n",
    "\n",
    "from sklearn.model_selection import train_test_split\n",
    "X_train_val, X_test, Y_train_val, Y_test = train_test_split(X, Y, test_size=0.33, random_state=7)\n",
    "\n",
    "# preprocessing: standard scalar\n",
    "from sklearn.preprocessing import StandardScaler\n",
    "scaler = StandardScaler().fit(X_train_val)\n",
    "X_train_val = scaler.transform(X_train_val)\n",
    "X_test = scaler.transform(X_test)\n",
    "\n",
    "# baseline keras model\n",
    "from sklearn.tree import DecisionTreeClassifier\n",
    "from sklearn.metrics import roc_curve, auc, classification_report, accuracy_score, confusion_matrix\n",
    "\n",
    "\n",
    "dtree = DecisionTreeClassifier()\n",
    "dtree.fit(X_train_val, Y_train_val)\n",
    "\n",
    "y_pred_BDT = dtree.predict(X_test)\n",
    "y_pred_BDT_tot = dtree.predict(scaler.transform(X))\n",
    "\n",
    "print(\"Accuracy score report for the test set\")\n",
    "print(accuracy_score(Y_test,y_pred_BDT))\n",
    "print(\"Accuracy score report for the total set\")\n",
    "print(accuracy_score(Y,y_pred_BDT_tot))\n",
    "\n",
    "print(\"\\nClassification report for the test set\")\n",
    "print(classification_report(Y_test.round(), y_pred_BDT.round(), target_names=['background', 'signal']))\n",
    "print(\"\\nClassification report for the total set\")\n",
    "print(classification_report(Y.round(), y_pred_BDT_tot.round(), target_names=['background', 'signal']))\n",
    "\n",
    "fpr_bdt_old, tpr_bdt_old, thresholds_bdt_old = roc_curve(Y_test, y_pred_BDT)\n",
    "\n",
    "df_all['dense_BDT'] = dtree.predict(scaler.transform(X)) # add prediction to array\n",
    "\n",
    "# add old BDT probability\n",
    "y_tot_prob_BDT = dtree.predict_proba(scaler.transform(X))[:,1]\n",
    "y_tot_BDT = dtree.predict(scaler.transform(X))\n",
    "cumulative_events = 0 # start counter for total number of events for which output is saved\n",
    "for key in filename.keys(): # loop over samples\n",
    "    df[key]['BDT_output_prob'] = y_tot_prob_BDT[cumulative_events:cumulative_events+len(df[key])]\n",
    "    df[key]['BDT_output'] = y_tot_BDT[cumulative_events:cumulative_events+len(df[key])]\n",
    "    cumulative_events += len(df[key]) # increment counter for total number of events\n",
    "\n",
    "# probability and significance plots\n",
    "BDT_output_prob = { # dictionary containing plotting parameters for the mllll histogram\n",
    "    # change plotting parameters\n",
    "    'bin_width':0.1, # width of each histogram bin\n",
    "    'num_bins':8, # number of histogram bins\n",
    "    'xrange_min':0, # minimum on x-axis\n",
    "    'xlabel':'Boosted Decision Tree old output', # x-axis label\n",
    "}\n",
    "\n",
    "SoverB_hist_dict = {'BDT_output_prob':BDT_output_prob}\n",
    "plot_SoverB(df, SoverB_hist_dict)"
   ]
  },
  {
   "cell_type": "code",
   "execution_count": 37,
   "metadata": {},
   "outputs": [
    {
     "data": {
      "text/plain": [
       "{'ccp_alpha': 0.0,\n",
       " 'class_weight': None,\n",
       " 'criterion': 'gini',\n",
       " 'max_depth': None,\n",
       " 'max_features': None,\n",
       " 'max_leaf_nodes': None,\n",
       " 'min_impurity_decrease': 0.0,\n",
       " 'min_impurity_split': None,\n",
       " 'min_samples_leaf': 1,\n",
       " 'min_samples_split': 2,\n",
       " 'min_weight_fraction_leaf': 0.0,\n",
       " 'random_state': None,\n",
       " 'splitter': 'best'}"
      ]
     },
     "execution_count": 37,
     "metadata": {},
     "output_type": "execute_result"
    }
   ],
   "source": [
    "dtree.get_params()"
   ]
  },
  {
   "attachments": {},
   "cell_type": "markdown",
   "metadata": {},
   "source": [
    "## Optimized BDT"
   ]
  },
  {
   "cell_type": "code",
   "execution_count": 44,
   "metadata": {},
   "outputs": [
    {
     "name": "stdout",
     "output_type": "stream",
     "text": [
      "Time taken to fit BDT: 0.5s\n",
      "AdaBoostClassifier(algorithm='SAMME',\n",
      "                   base_estimator=DecisionTreeClassifier(max_depth=6),\n",
      "                   learning_rate=0.5, n_estimators=12)\n",
      "0.7250335871025526\n",
      "Classification report for the test set\n",
      "              precision    recall  f1-score   support\n",
      "\n",
      "  background       0.75      0.66      0.70      1083\n",
      "      signal       0.71      0.79      0.75      1150\n",
      "\n",
      "    accuracy                           0.73      2233\n",
      "   macro avg       0.73      0.72      0.72      2233\n",
      "weighted avg       0.73      0.73      0.72      2233\n",
      "\n",
      "Classification report for the total set\n",
      "              precision    recall  f1-score   support\n",
      "\n",
      "  background       0.78      0.71      0.75      3265\n",
      "      signal       0.75      0.82      0.78      3500\n",
      "\n",
      "    accuracy                           0.77      6765\n",
      "   macro avg       0.77      0.76      0.76      6765\n",
      "weighted avg       0.77      0.77      0.76      6765\n",
      "\n"
     ]
    },
    {
     "data": {
      "image/png": "[encoded data removed]",
      "text/plain": [
       "<Figure size 432x288 with 1 Axes>"
      ]
     },
     "metadata": {
      "needs_background": "light"
     },
     "output_type": "display_data"
    },
    {
     "data": {
      "image/png": "[encoded data removed]",
      "text/plain": [
       "<Figure size 432x288 with 1 Axes>"
      ]
     },
     "metadata": {
      "needs_background": "light"
     },
     "output_type": "display_data"
    },
    {
     "data": {
      "image/png": "[encoded data removed]",
      "text/plain": [
       "<Figure size 432x288 with 1 Axes>"
      ]
     },
     "metadata": {
      "needs_background": "light"
     },
     "output_type": "display_data"
    }
   ],
   "source": [
    "import time\n",
    "from sklearn.ensemble import AdaBoostClassifier\n",
    "\n",
    "dt = DecisionTreeClassifier(max_depth=6) # maximum depth of the tree\n",
    "bdt = AdaBoostClassifier(dt,\n",
    "                        algorithm='SAMME', # SAMME discrete boosting algorithm\n",
    "                        n_estimators=12, # max number of estimators at which boosting is terminated\n",
    "                        learning_rate=0.5) # shrinks the contribution of each classifier by learning_rate\n",
    "\n",
    "start = time.time() # time at start of BDT fit\n",
    "bdt.fit(X_train_val, Y_train_val) # fit BDT to training set\n",
    "elapsed = time.time() - start # time after fitting BDT\n",
    "print(\"Time taken to fit BDT: \"+str(round(elapsed,1))+\"s\") # print total time taken to fit BDT\n",
    "print(bdt)\n",
    "\n",
    "\n",
    "# performance plots\n",
    "y_pred_BDT = bdt.predict(X_test)\n",
    "y_pred_BDT_tot = bdt.predict(scaler.transform(X))\n",
    "print(accuracy_score(Y_test,y_pred_BDT))\n",
    "print(\"Classification report for the test set\")\n",
    "print(classification_report(Y_test, y_pred_BDT, target_names=['background', 'signal']))\n",
    "print(\"Classification report for the total set\")\n",
    "print(classification_report(Y, y_pred_BDT_tot, target_names=['background', 'signal']))\n",
    "\n",
    "fpr_bdt, tpr_bdt, thresholds_bdt = roc_curve(Y_test, y_pred_BDT)\n",
    "\n",
    "df_all['dense_BDT_opt'] = bdt.predict(scaler.transform(X)) # add prediction to array\n",
    "\n",
    "# add RF probability\n",
    "y_tot_prob_BDT = bdt.predict_proba(scaler.transform(X))[:,1]\n",
    "y_tot_BDT = bdt.predict(scaler.transform(X))\n",
    "cumulative_events = 0 # start counter for total number of events for which output is saved\n",
    "for key in filename.keys(): # loop over samples\n",
    "    df[key]['BDT_output_prob'] = y_tot_prob_BDT[cumulative_events:cumulative_events+len(df[key])]\n",
    "    df[key]['BDT_output'] = y_tot_BDT[cumulative_events:cumulative_events+len(df[key])]\n",
    "    cumulative_events += len(df[key]) # increment counter for total number of events\n",
    "\n",
    "\n",
    "# probability and significance plots\n",
    "BDT_output_prob = { # dictionary containing plotting parameters for the mllll histogram\n",
    "    # change plotting parameters\n",
    "    'bin_width':0.1, # width of each histogram bin\n",
    "    'num_bins':8, # number of histogram bins\n",
    "    'xrange_min':0, # minimum on x-axis\n",
    "    'xlabel':'Boosted Decision Tree output', # x-axis label\n",
    "}\n",
    "\n",
    "SoverB_hist_dict = {'BDT_output_prob':BDT_output_prob}\n",
    "plot_SoverB(df, SoverB_hist_dict)    \n",
    "\n",
    "# plot ROC curve\n",
    "'''\n",
    "plt.plot(fpr_bdt, tpr_bdt, label='Boosted Decision Tree') # plot random forest ROC\n",
    "plt.plot([0, 1], [0, 1], linestyle='dotted', color='grey', label='Luck') # plot diagonal line to indicate luck\n",
    "plt.xlabel('False Positive Rate') # x-axis label\n",
    "plt.ylabel('True Positive Rate') # y-axis label\n",
    "plt.grid() # add a grid to the plot\n",
    "plt.legend(); # add a legend\n",
    "'''\n",
    "\n",
    "# overfit checking\n",
    "def compare_train_test(clf, X_train, y_train, X_test, y_test, xlabel):\n",
    "    decisions = [] # list to hold decisions of classifier\n",
    "    for X,y in ((X_train, y_train), (X_test, y_test)): # train and test\n",
    "        d1 = clf.predict_proba(X[y<0.5])[:, 1] # background\n",
    "        d2 = clf.predict_proba(X[y>0.5])[:, 1] # signal\n",
    "        decisions += [d1, d2] # add to list of classifier decision\n",
    "\n",
    "    highest_decision = max(np.max(d) for d in decisions) # get maximum score\n",
    "    bin_edges = [] # list to hold bin edges\n",
    "    bin_edge = -0.1 # start counter for bin_edges\n",
    "    while bin_edge < highest_decision: # up to highest score\n",
    "        bin_edge += 0.1 # increment\n",
    "        bin_edges.append(bin_edge)\n",
    "\n",
    "    # Training plots\n",
    "    plt.hist(decisions[0], # background in train set\n",
    "            bins=bin_edges, # lower and upper range of the bins\n",
    "            density=True, # area under the histogram will sum to 1\n",
    "            histtype='stepfilled', # lineplot that's filled\n",
    "            color='blue', label='Background (train)', # Background (train)\n",
    "            alpha=0.5 ) # half transparency\n",
    "    plt.hist(decisions[1], # signal in train set\n",
    "            bins=bin_edges, # lower and upper range of the bins\n",
    "            density=True, # area under the histogram will sum to 1\n",
    "            histtype='stepfilled', # lineplot that's filled\n",
    "            color='orange', label='Signal (train)', # Signal (train)\n",
    "            alpha=0.5 ) # half transparency\n",
    "\n",
    "    # Testing plots\n",
    "    hist_background, bin_edges = np.histogram(decisions[2], # background test\n",
    "                                            bins=bin_edges, # number of bins in function definition\n",
    "                                            density=True ) # area under the histogram will sum to 1\n",
    "\n",
    "    scale = len(decisions[2]) / sum(hist_background) # between raw and normalised\n",
    "    err_background = np.sqrt(hist_background * scale) / scale # error on test background\n",
    "\n",
    "    width = 0.1 # histogram bin width\n",
    "    center = (bin_edges[:-1] + bin_edges[1:]) / 2 # bin centres\n",
    "\n",
    "    plt.errorbar(x=center, y=hist_background, yerr=err_background, fmt='o', # circles\n",
    "                c='blue', label='Background (test)' ) # Background (test)\n",
    "\n",
    "    hist_signal, bin_edges = np.histogram(decisions[3], # siganl test\n",
    "                                        bins=bin_edges, # number of bins in function definition\n",
    "                                        density=True ) # area under the histogram will sum to 1\n",
    "\n",
    "    scale = len(decisions[3]) / sum(hist_signal) # between raw and normalised\n",
    "    err_signal = np.sqrt(hist_signal * scale) / scale # error on test background\n",
    "\n",
    "    plt.errorbar(x=center, y=hist_signal, yerr=err_signal, fmt='*', # circles\n",
    "                c='orange', label='Signal (test)' ) # Signal (test)\n",
    "\n",
    "    plt.xlabel(xlabel) # write x-axis label\n",
    "    plt.ylabel(\"Arbitrary units\") # write y-axis label\n",
    "    plt.legend() # add legend\n",
    "\n",
    "compare_train_test(bdt, X_train_val, Y_train_val, X_test, Y_test, 'Boosted Decision Tree output')"
   ]
  },
  {
   "cell_type": "code",
   "execution_count": null,
   "metadata": {},
   "outputs": [],
   "source": []
  }
 ],
 "metadata": {
  "kernelspec": {
   "display_name": "Python 3",
   "language": "python",
   "name": "python3"
  },
  "language_info": {
   "codemirror_mode": {
    "name": "ipython",
    "version": 3
   },
   "file_extension": ".py",
   "mimetype": "text/x-python",
   "name": "python",
   "nbconvert_exporter": "python",
   "pygments_lexer": "ipython3",
   "version": "3.9.1"
  },
  "vscode": {
   "interpreter": {
    "hash": "aee8b7b246df8f9039afb4144a1f6fd8d2ca17a180786b69acc140d282b71a49"
   }
  }
 },
 "nbformat": 4,
 "nbformat_minor": 1
}
