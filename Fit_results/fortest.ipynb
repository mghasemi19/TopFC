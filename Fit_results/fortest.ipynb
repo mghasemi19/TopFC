{
 "cells": [
  {
   "cell_type": "markdown",
   "metadata": {},
   "source": [
    "# Introduction to HistFactory Models\n",
    "\n",
    "🎶 I'm the very Model of a simple HEP-like measurement... 🎶\n",
    "\n",
    "## HEP-like?\n",
    "\n",
    "So what do we do as experimentalists in High Energy Physics? We have a gigantic detector that serves as a counting machine for physics. We smash particles and take pictures of the aftermath. Then we propose hypotheses for new physics that we want to test using this data. So we will have, at the very least:\n",
    "\n",
    "* signal\n",
    "* background (with some uncertainty)\n",
    "* some observations\n",
    "\n",
    "This is probably the simplest model one could use in HistFactory... so let's make it."
   ]
  },
  {
   "cell_type": "code",
   "execution_count": 93,
   "metadata": {},
   "outputs": [
    {
     "data": {
      "text/plain": [
       "'\\nwith open(\"data/2-bin_1-channel.json\") as serialized:\\n    spec = json.load(serialized)\\n\\nworkspace = pyhf.Workspace(spec)\\nworkspace\\nmodel = workspace.model()\\n\\nmodel.config.suggested_bounds()\\n'"
      ]
     },
     "execution_count": 93,
     "metadata": {},
     "output_type": "execute_result"
    }
   ],
   "source": [
    "'''\n",
    "with open(\"data/2-bin_1-channel.json\") as serialized:\n",
    "    spec = json.load(serialized)\n",
    "\n",
    "workspace = pyhf.Workspace(spec)\n",
    "workspace\n",
    "model = workspace.model()\n",
    "\n",
    "model.config.suggested_bounds()\n",
    "'''"
   ]
  },
  {
   "cell_type": "code",
   "execution_count": 94,
   "metadata": {},
   "outputs": [],
   "source": [
    "import json\n",
    "\n",
    "import matplotlib.pyplot as plt\n",
    "import numpy as np\n",
    "import pyhf\n",
    "from pyhf.contrib.viz import brazil"
   ]
  },
  {
   "cell_type": "code",
   "execution_count": 95,
   "metadata": {},
   "outputs": [
    {
     "data": {
      "text/plain": [
       "<pyhf.pdf.Model at 0x7f84f146d7f0>"
      ]
     },
     "execution_count": 95,
     "metadata": {},
     "output_type": "execute_result"
    }
   ],
   "source": [
    "model = pyhf.simplemodels.uncorrelated_background(\n",
    "    signal=[5.0, 10.0], bkg=[50.0, 60.0], bkg_uncertainty=[5.0, 12.0]\n",
    ")\n",
    "model"
   ]
  },
  {
   "cell_type": "markdown",
   "metadata": {},
   "source": [
    "What did we just make? This returns a [`pyhf.pdf.Model`](https://pyhf.readthedocs.io/en/v0.7.1/_generated/pyhf.pdf.Model.html#pyhf.pdf.Model) object. Let's check out the specification."
   ]
  },
  {
   "cell_type": "code",
   "execution_count": 97,
   "metadata": {},
   "outputs": [
    {
     "data": {
      "text/plain": [
       "{'channels': [{'name': 'singlechannel',\n",
       "   'samples': [{'name': 'signal',\n",
       "     'data': [5.0, 10.0],\n",
       "     'modifiers': [{'name': 'mu', 'type': 'normfactor', 'data': None}]},\n",
       "    {'name': 'background',\n",
       "     'data': [50.0, 60.0],\n",
       "     'modifiers': [{'name': 'uncorr_bkguncrt',\n",
       "       'type': 'shapesys',\n",
       "       'data': [5.0, 12.0]}]}]}]}"
      ]
     },
     "execution_count": 97,
     "metadata": {},
     "output_type": "execute_result"
    }
   ],
   "source": [
    "model.spec"
   ]
  },
  {
   "cell_type": "code",
   "execution_count": 96,
   "metadata": {},
   "outputs": [
    {
     "name": "stdout",
     "output_type": "stream",
     "text": [
      "{\n",
      "  \"channels\": [\n",
      "    {\n",
      "      \"name\": \"singlechannel\",\n",
      "      \"samples\": [\n",
      "        {\n",
      "          \"name\": \"signal\",\n",
      "          \"data\": [\n",
      "            5.0,\n",
      "            10.0\n",
      "          ],\n",
      "          \"modifiers\": [\n",
      "            {\n",
      "              \"name\": \"mu\",\n",
      "              \"type\": \"normfactor\",\n",
      "              \"data\": null\n",
      "            }\n",
      "          ]\n",
      "        },\n",
      "        {\n",
      "          \"name\": \"background\",\n",
      "          \"data\": [\n",
      "            50.0,\n",
      "            60.0\n",
      "          ],\n",
      "          \"modifiers\": [\n",
      "            {\n",
      "              \"name\": \"uncorr_bkguncrt\",\n",
      "              \"type\": \"shapesys\",\n",
      "              \"data\": [\n",
      "                5.0,\n",
      "                12.0\n",
      "              ]\n",
      "            }\n",
      "          ]\n",
      "        }\n",
      "      ]\n",
      "    }\n",
      "  ]\n",
      "}\n"
     ]
    }
   ],
   "source": [
    "print(json.dumps(model.spec, indent=2))"
   ]
  },
  {
   "cell_type": "markdown",
   "metadata": {},
   "source": [
    "As we can see from the specification, we defined a single two-bin channel ('singlechannel') with two samples: a **signal sample** and a **background sample**. The signal sample has an _unconstrained normalization factor_ $\\mu$, the signal strength, while the background sample carries an _uncorrelated shape systematic_ controlled by parameters $\\gamma_{1}$ and $\\gamma_{2}$. The _background uncertainty_ for the bins is $10\\%$ and $20\\%$ respectively.\n",
    "\n",
    "These uncertainties are **absolute** (not relative!). We have 10% and 20% relative uncertainty for the bins in the background sample respectively.\n",
    "\n",
    "(*Note: we have a workspace defined with this simple model in `data/2-bin_1-channel.json` which we will look at later.*)\n",
    "\n",
    "Let's explore the model a little bit."
   ]
  },
  {
   "cell_type": "code",
   "execution_count": 24,
   "metadata": {},
   "outputs": [
    {
     "name": "stdout",
     "output_type": "stream",
     "text": [
      "  channels: ['singlechannel']\n",
      "     nbins: {'singlechannel': 2}\n",
      "   samples: ['background', 'signal']\n",
      " modifiers: [('mu', 'normfactor'), ('uncorr_bkguncrt', 'shapesys')]\n",
      "parameters: ['mu', 'uncorr_bkguncrt']\n",
      "  nauxdata: 2\n",
      "   auxdata: [100.0, 25.0]\n"
     ]
    }
   ],
   "source": [
    "print(f\"  channels: {model.config.channels}\")\n",
    "print(f\"     nbins: {model.config.channel_nbins}\")\n",
    "print(f\"   samples: {model.config.samples}\")\n",
    "print(f\" modifiers: {model.config.modifiers}\")\n",
    "print(f\"parameters: {model.config.parameters}\")\n",
    "print(f\"  nauxdata: {model.config.nauxdata}\")\n",
    "print(f\"   auxdata: {model.config.auxdata}\")"
   ]
  },
  {
   "cell_type": "markdown",
   "metadata": {},
   "source": [
    "## Auxiliary Data"
   ]
  },
  {
   "cell_type": "markdown",
   "metadata": {},
   "source": [
    "Whoa, hold up! What's with the auxiliary data? Recall the HistFactory definition"
   ]
  },
  {
   "cell_type": "markdown",
   "metadata": {},
   "source": [
    "$$\n",
    "p(n,a|\\theta) = \\underbrace{\\prod_{\\mathrm{channel}\\ c}\\prod_{\\mathrm{bin}\\ b} \\mathrm{Pois}(n_{cb} | \\lambda_{cb}(\\theta))}_{\\text{main}} \\underbrace{\\prod_{\\mathrm{constraint}\\ \\chi} p_\\chi(a_\\chi | \\chi)}_{\\text{auxiliary}}\n",
    "$$"
   ]
  },
  {
   "cell_type": "markdown",
   "metadata": {},
   "source": [
    "for\n",
    "\n",
    "$$\n",
    "\\lambda_{cb}(\\theta) = \\sum_{\\mathrm{sample}\\ s} \\lambda_{cbs}(\\theta)\n",
    "$$"
   ]
  },
  {
   "cell_type": "markdown",
   "metadata": {},
   "source": [
    "and the auxiliary data here is passed into a constraint function. There's two things going on here:\n",
    "\n",
    "1. The uncorrelated shapesys modifier is constrained by a Poisson.\n",
    "2. The auxiliary data is fully determined by the shapesys 'data' and the 'background' data.\n",
    "\n",
    "So if we were to explicitly write out the likelihood we were seeing symbolically, it would be:\n",
    "\n",
    "$$\n",
    "\\begin{align}\n",
    "p_\\text{main} \\cdot p_\\text{aux} &= \\text{Pois}(n | \\lambda) \\cdot p_\\text{aux}\\\\\n",
    "                                 &= \\text{Pois}(n | \\mu s + \\gamma b) \\cdot p_\\text{aux}\\\\\n",
    "                                 &= \\text{Pois}(n | \\mu s + \\gamma b) \\cdot \\text{Pois}(n_\\text{aux} = (b/\\delta b)^2 | \\mu = (b/\\delta b)^2 \\gamma )\\\\\n",
    "\\end{align}\n",
    "$$\n",
    "\n",
    "where $n = \\{n_1, n_2\\}$ for a 2-bin model (we're being slightly fast and loose with our mathematical notation here), and similarly for $s$, $b$, and $\\gamma$.\n",
    "\n",
    "The 'shapesys' is defined in the [HistFactory paper](https://cds.cern.ch/record/1456844)... however, it can be a little hard to extract out the necessary information. We've provided a nice table of [Modifiers and Constraints](https://pyhf.readthedocs.io/en/v0.7.1/intro.html#id24) in the introduction of our pyhf documentation to use as reference.\n",
    "\n",
    "![modifiers and constraints](assets/modifiers_and_constraints.png)"
   ]
  },
  {
   "cell_type": "markdown",
   "metadata": {},
   "source": [
    "Let's look at the first row here which is our uncorrelated shape modifier. This is a multiplicative modifier denoted by $\\kappa$ per-bin (denoted by $\\gamma_b$). Notice that the input for the constraint term requires $\\sigma_b$ which is the relative uncertainty of that modifier. This is Poisson-constrained by $\\sigma_b^{-2}$. Let's quickly calculate \"by hand\" the auxiliary data to convince ourselves of what's going on here (remembering that the background uncertainties were 10% and 20% of the observed background counts):"
   ]
  },
  {
   "cell_type": "code",
   "execution_count": 25,
   "metadata": {},
   "outputs": [
    {
     "data": {
      "text/plain": [
       "array([100.,  25.])"
      ]
     },
     "execution_count": 25,
     "metadata": {},
     "output_type": "execute_result"
    }
   ],
   "source": [
    "(np.array([5.0, 12.0]) / np.array([50.0, 60.0])) ** -2"
   ]
  },
  {
   "cell_type": "markdown",
   "metadata": {},
   "source": [
    "which is what we see from the `pyhf.pdf.Model` API"
   ]
  },
  {
   "cell_type": "code",
   "execution_count": 26,
   "metadata": {},
   "outputs": [
    {
     "data": {
      "text/plain": [
       "[100.0, 25.0]"
      ]
     },
     "execution_count": 26,
     "metadata": {},
     "output_type": "execute_result"
    }
   ],
   "source": [
    "model.config.auxdata"
   ]
  },
  {
   "cell_type": "markdown",
   "metadata": {},
   "source": [
    "Everything looks good!"
   ]
  },
  {
   "cell_type": "markdown",
   "metadata": {},
   "source": [
    "## Data and Parameters\n",
    "\n",
    "What about the actual data for the model then?"
   ]
  },
  {
   "cell_type": "code",
   "execution_count": 98,
   "metadata": {
    "tags": [
     "raises-exception"
    ]
   },
   "outputs": [
    {
     "ename": "TypeError",
     "evalue": "expected_data() missing 1 required positional argument: 'pars'",
     "output_type": "error",
     "traceback": [
      "\u001b[0;31m---------------------------------------------------------------------------\u001b[0m",
      "\u001b[0;31mTypeError\u001b[0m                                 Traceback (most recent call last)",
      "Cell \u001b[0;32mIn[98], line 1\u001b[0m\n\u001b[0;32m----> 1\u001b[0m \u001b[43mmodel\u001b[49m\u001b[38;5;241;43m.\u001b[39;49m\u001b[43mexpected_data\u001b[49m\u001b[43m(\u001b[49m\u001b[43m)\u001b[49m\n",
      "\u001b[0;31mTypeError\u001b[0m: expected_data() missing 1 required positional argument: 'pars'"
     ]
    }
   ],
   "source": [
    "model.expected_data()"
   ]
  },
  {
   "cell_type": "markdown",
   "metadata": {},
   "source": [
    "Hrmm, that didn't work. It seems we need to specify the parameter values to get the data for the model at those parameter values. Well, we know the default for $\\mu=1$ and $\\gamma = 1$. Also recall that the uncorrelated shape allocates a parameter per bin, so our model has **3 parameters** with **2 modifiers**. So let's just try that:"
   ]
  },
  {
   "cell_type": "code",
   "execution_count": 99,
   "metadata": {},
   "outputs": [
    {
     "data": {
      "text/plain": [
       "array([ 55.,  70., 100.,  25.])"
      ]
     },
     "execution_count": 99,
     "metadata": {},
     "output_type": "execute_result"
    }
   ],
   "source": [
    "model.expected_data([1.0, 1.0, 1.0])"
   ]
  },
  {
   "cell_type": "code",
   "execution_count": 100,
   "metadata": {},
   "outputs": [
    {
     "data": {
      "text/plain": [
       "array([ 60.,  80., 100.,  25.])"
      ]
     },
     "execution_count": 100,
     "metadata": {},
     "output_type": "execute_result"
    }
   ],
   "source": [
    "model.expected_data([2.0, 1.0, 1.0])"
   ]
  },
  {
   "cell_type": "markdown",
   "metadata": {},
   "source": [
    "This returns the expected data given the model parameters for the entire likelihood for the 2 bin model, the main model as well as the constraint (or auxiliary) model. We can also drop the auxdata to get the actual data."
   ]
  },
  {
   "cell_type": "code",
   "execution_count": 101,
   "metadata": {},
   "outputs": [
    {
     "data": {
      "text/plain": [
       "array([55., 70.])"
      ]
     },
     "execution_count": 101,
     "metadata": {},
     "output_type": "execute_result"
    }
   ],
   "source": [
    "model.expected_data([1.0, 1.0, 1.0], include_auxdata=False)"
   ]
  },
  {
   "cell_type": "markdown",
   "metadata": {},
   "source": [
    "Similarly, there are also methods separately for the actual data and the auxdata, both which take in all the parameters:"
   ]
  },
  {
   "cell_type": "code",
   "execution_count": 102,
   "metadata": {},
   "outputs": [
    {
     "data": {
      "text/plain": [
       "array([55., 70.])"
      ]
     },
     "execution_count": 102,
     "metadata": {},
     "output_type": "execute_result"
    }
   ],
   "source": [
    "model.expected_actualdata([1.0, 1.0, 1.0])"
   ]
  },
  {
   "cell_type": "code",
   "execution_count": 103,
   "metadata": {},
   "outputs": [
    {
     "data": {
      "text/plain": [
       "array([100.,  25.])"
      ]
     },
     "execution_count": 103,
     "metadata": {},
     "output_type": "execute_result"
    }
   ],
   "source": [
    "model.expected_auxdata([1.0, 1.0, 1.0])"
   ]
  },
  {
   "cell_type": "markdown",
   "metadata": {},
   "source": [
    "### The Parameter Ordering"
   ]
  },
  {
   "cell_type": "markdown",
   "metadata": {},
   "source": [
    "So how do we know what these parameters correspond to? The way `pyhf` works under the hood, you can imagine an `n`-dimensional tensor that is purely bookkeeping all the different expected rates and modifications (read: systematics) involved that we can apply tensor algebra calculations to. This means that the ordering of the entries in each dimension is important, so we need to keep track of the order of the channels, the samples, the parameters. In `pyhf`, you can ask for the parameters or modifiers in a model:"
   ]
  },
  {
   "cell_type": "code",
   "execution_count": 104,
   "metadata": {},
   "outputs": [
    {
     "data": {
      "text/plain": [
       "['mu', 'uncorr_bkguncrt']"
      ]
     },
     "execution_count": 104,
     "metadata": {},
     "output_type": "execute_result"
    }
   ],
   "source": [
    "model.config.parameters"
   ]
  },
  {
   "cell_type": "code",
   "execution_count": 105,
   "metadata": {},
   "outputs": [
    {
     "data": {
      "text/plain": [
       "[('mu', 'normfactor'), ('uncorr_bkguncrt', 'shapesys')]"
      ]
     },
     "execution_count": 105,
     "metadata": {},
     "output_type": "execute_result"
    }
   ],
   "source": [
    "model.config.modifiers"
   ]
  },
  {
   "cell_type": "markdown",
   "metadata": {},
   "source": [
    "However, these might **not necessarily** correspond with the order of the parameters when we build this tensor internally, and we keep this order under a different variable"
   ]
  },
  {
   "cell_type": "code",
   "execution_count": 106,
   "metadata": {},
   "outputs": [
    {
     "data": {
      "text/plain": [
       "['mu', 'uncorr_bkguncrt']"
      ]
     },
     "execution_count": 106,
     "metadata": {},
     "output_type": "execute_result"
    }
   ],
   "source": [
    "model.config.par_order"
   ]
  },
  {
   "cell_type": "markdown",
   "metadata": {},
   "source": [
    "### The Parameter Multiplicity"
   ]
  },
  {
   "cell_type": "markdown",
   "metadata": {},
   "source": [
    "But this clearly doesn't answer everything, because we were using three numbers assigned to two parameters! How does that work? Well, recall that the only channel in this model has 2 bins:"
   ]
  },
  {
   "cell_type": "code",
   "execution_count": 107,
   "metadata": {},
   "outputs": [
    {
     "data": {
      "text/plain": [
       "{'singlechannel': 2}"
      ]
     },
     "execution_count": 107,
     "metadata": {},
     "output_type": "execute_result"
    }
   ],
   "source": [
    "model.config.channel_nbins"
   ]
  },
  {
   "cell_type": "markdown",
   "metadata": {},
   "source": [
    "and one of the parameters (the uncorrelated shape systematic) will be configured by $\\gamma_b$ &mdash; that is, one parameter for each bin of the sample in that channel. How does `pyhf` know that the parameter set is associated with two parameters? We can ask for information about the `paramset`:"
   ]
  },
  {
   "cell_type": "code",
   "execution_count": 108,
   "metadata": {},
   "outputs": [
    {
     "data": {
      "text/plain": [
       "<pyhf.parameters.paramsets.constrained_by_poisson at 0x7f84f1467880>"
      ]
     },
     "execution_count": 108,
     "metadata": {},
     "output_type": "execute_result"
    }
   ],
   "source": [
    "model.config.param_set(\"uncorr_bkguncrt\")"
   ]
  },
  {
   "cell_type": "markdown",
   "metadata": {},
   "source": [
    "which we can see is constrained by a Poisson and"
   ]
  },
  {
   "cell_type": "code",
   "execution_count": 109,
   "metadata": {},
   "outputs": [
    {
     "data": {
      "text/plain": [
       "2"
      ]
     },
     "execution_count": 109,
     "metadata": {},
     "output_type": "execute_result"
    }
   ],
   "source": [
    "model.config.param_set(\"uncorr_bkguncrt\").n_parameters"
   ]
  },
  {
   "cell_type": "code",
   "execution_count": 117,
   "metadata": {},
   "outputs": [
    {
     "name": "stdout",
     "output_type": "stream",
     "text": [
      "<pyhf.parameters.paramsets.unconstrained object at 0x7f84f14674f0>\n",
      "1\n"
     ]
    }
   ],
   "source": [
    "print(model.config.param_set(\"mu\"))\n",
    "print(model.config.param_set(\"mu\").n_parameters)"
   ]
  },
  {
   "cell_type": "markdown",
   "metadata": {},
   "source": [
    "### The Parameter Defaults"
   ]
  },
  {
   "cell_type": "markdown",
   "metadata": {},
   "source": [
    "So how do we know what we should set the parameters to? The nice thing is that this is up to you! The model will come with some suggested defaults for parameters..."
   ]
  },
  {
   "cell_type": "code",
   "execution_count": 110,
   "metadata": {},
   "outputs": [
    {
     "data": {
      "text/plain": [
       "[1.0, 1.0, 1.0]"
      ]
     },
     "execution_count": 110,
     "metadata": {},
     "output_type": "execute_result"
    }
   ],
   "source": [
    "model.config.suggested_init()"
   ]
  },
  {
   "cell_type": "markdown",
   "metadata": {},
   "source": [
    "...and their bounds"
   ]
  },
  {
   "cell_type": "code",
   "execution_count": 111,
   "metadata": {},
   "outputs": [
    {
     "data": {
      "text/plain": [
       "[(0, 10), (1e-10, 10.0), (1e-10, 10.0)]"
      ]
     },
     "execution_count": 111,
     "metadata": {},
     "output_type": "execute_result"
    }
   ],
   "source": [
    "model.config.suggested_bounds()"
   ]
  },
  {
   "cell_type": "markdown",
   "metadata": {},
   "source": [
    "... and if the parameter should be held constant in a fit or not"
   ]
  },
  {
   "cell_type": "code",
   "execution_count": 112,
   "metadata": {},
   "outputs": [
    {
     "data": {
      "text/plain": [
       "[False, False, False]"
      ]
     },
     "execution_count": 112,
     "metadata": {},
     "output_type": "execute_result"
    }
   ],
   "source": [
    "model.config.suggested_fixed()"
   ]
  },
  {
   "cell_type": "markdown",
   "metadata": {},
   "source": [
    "So armed with this knowledge, we could have also done"
   ]
  },
  {
   "cell_type": "code",
   "execution_count": 113,
   "metadata": {},
   "outputs": [
    {
     "data": {
      "text/plain": [
       "array([55., 70.])"
      ]
     },
     "execution_count": 113,
     "metadata": {},
     "output_type": "execute_result"
    }
   ],
   "source": [
    "init_pars = model.config.suggested_init()\n",
    "model.expected_actualdata(init_pars)"
   ]
  },
  {
   "cell_type": "code",
   "execution_count": 114,
   "metadata": {},
   "outputs": [
    {
     "data": {
      "text/plain": [
       "array([60., 80.])"
      ]
     },
     "execution_count": 114,
     "metadata": {},
     "output_type": "execute_result"
    }
   ],
   "source": [
    "model.expected_actualdata([2, 1, 1])"
   ]
  },
  {
   "cell_type": "markdown",
   "metadata": {},
   "source": [
    "To get the expected actual data from the model (signal + background), we could turn off the signal, corresponding with the normalization factor. We just need to know the index of the parameter:"
   ]
  },
  {
   "cell_type": "code",
   "execution_count": 43,
   "metadata": {},
   "outputs": [
    {
     "data": {
      "text/plain": [
       "0"
      ]
     },
     "execution_count": 43,
     "metadata": {},
     "output_type": "execute_result"
    }
   ],
   "source": [
    "model.config.poi_index"
   ]
  },
  {
   "cell_type": "markdown",
   "metadata": {},
   "source": [
    "and then just change the parameter"
   ]
  },
  {
   "cell_type": "code",
   "execution_count": 58,
   "metadata": {},
   "outputs": [
    {
     "data": {
      "text/plain": [
       "array([50., 60.])"
      ]
     },
     "execution_count": 58,
     "metadata": {},
     "output_type": "execute_result"
    }
   ],
   "source": [
    "bkg_pars = init_pars.copy()\n",
    "bkg_pars[model.config.poi_index] = 0\n",
    "model.expected_actualdata(bkg_pars)"
   ]
  },
  {
   "cell_type": "code",
   "execution_count": 59,
   "metadata": {},
   "outputs": [
    {
     "data": {
      "text/plain": [
       "array([50., 60.])"
      ]
     },
     "execution_count": 59,
     "metadata": {},
     "output_type": "execute_result"
    }
   ],
   "source": [
    "model.expected_actualdata([0,1,1])"
   ]
  },
  {
   "cell_type": "code",
   "execution_count": null,
   "metadata": {},
   "outputs": [],
   "source": []
  },
  {
   "cell_type": "markdown",
   "metadata": {},
   "source": [
    "## Simple Inference\n",
    "\n",
    "The core of statistical analysis is the statistical model. For inference, it's viewed as a function of the model parameters conditioned on the fixed observations.\n",
    "\n",
    "$$\n",
    "\\log L(\\theta | x) \\propto \\log p(x | \\theta)\n",
    "$$\n",
    "\n",
    "The value of the likelihood is a float. Let's try it for both the background-only model as well as the signal+background model."
   ]
  },
  {
   "cell_type": "code",
   "execution_count": 60,
   "metadata": {},
   "outputs": [
    {
     "data": {
      "text/plain": [
       "array([-11.9581657])"
      ]
     },
     "execution_count": 60,
     "metadata": {},
     "output_type": "execute_result"
    }
   ],
   "source": [
    "observations = [53.0, 65.0] + model.config.auxdata  # this is a common pattern!\n",
    "\n",
    "model.logpdf(pars=bkg_pars, data=observations)"
   ]
  },
  {
   "cell_type": "code",
   "execution_count": 61,
   "metadata": {},
   "outputs": [
    {
     "data": {
      "text/plain": [
       "array([-11.88693198])"
      ]
     },
     "execution_count": 61,
     "metadata": {},
     "output_type": "execute_result"
    }
   ],
   "source": [
    "model.logpdf(pars=[1,1,1], data=observations)"
   ]
  },
  {
   "cell_type": "code",
   "execution_count": 62,
   "metadata": {},
   "outputs": [
    {
     "data": {
      "text/plain": [
       "array([-11.88693198])"
      ]
     },
     "execution_count": 62,
     "metadata": {},
     "output_type": "execute_result"
    }
   ],
   "source": [
    "model.logpdf(pars=init_pars, data=observations)"
   ]
  },
  {
   "cell_type": "markdown",
   "metadata": {},
   "source": [
    "We're not performing inference just yet. We're simply computing the 'logpdf' of the model specified by the parameters $\\theta$ against the provided data. To perform a fit, we use the [inference API](https://pyhf.readthedocs.io/en/v0.7.1/api.html#inference) via `pyhf.infer`.\n",
    "\n",
    "When fitting a model to data, we usually want to find the $\\hat{\\theta}$ which refers to the \"Maximum Likelihood Estimate\" of the model parameters. This is often referred to mathematically by\n",
    "\n",
    "$$\n",
    "\\hat{\\theta}_\\text{MLE} = \\text{argmax}_\\theta L(\\theta | x)\n",
    "$$"
   ]
  },
  {
   "cell_type": "markdown",
   "metadata": {},
   "source": [
    "Let's perform a unconstrained maximum likelihood fit on this model to the provided observations we just made up."
   ]
  },
  {
   "cell_type": "code",
   "execution_count": 63,
   "metadata": {},
   "outputs": [
    {
     "data": {
      "text/plain": [
       "array([0.5400972 , 1.00192693, 0.99540615])"
      ]
     },
     "execution_count": 63,
     "metadata": {},
     "output_type": "execute_result"
    }
   ],
   "source": [
    "pyhf.infer.mle.fit(data=observations, pdf=model)"
   ]
  },
  {
   "cell_type": "markdown",
   "metadata": {},
   "source": [
    "So what can we say? With nominal signal `[5, 10]` and nominal background = `[50, 60]` model components, an observed count of `[53, 65]` suggests best fit values:\n",
    "* $\\hat{\\mu} \\approx 0.54$,\n",
    "* $\\hat{\\gamma} \\approx [1,1]$."
   ]
  },
  {
   "cell_type": "markdown",
   "metadata": {},
   "source": [
    "## Simple Hypothesis Testing\n",
    "\n",
    "Great, so we can fit. But that's not usually the interesting part, since we cannot make any statements about this. What we prefer to do is perform a hypothesis test to either:\n",
    "\n",
    "* Reject Standard Model hypothesis &mdash; a discovery fit.\n",
    "* Reject Beyond the Standard Model hypothesis &mdash; an exclusion fit.\n",
    "\n",
    "So we need to compute test statistics in order to evaluate the hypothesis. If we know the distribution of the test statistic under two different hypotheses, we can compute a [CLs](https://en.wikipedia.org/wiki/CLs_method_(particle_physics)) value. This is a modified pseudo-frequentist $p\\,$-value."
   ]
  },
  {
   "cell_type": "markdown",
   "metadata": {},
   "source": [
    "$$\n",
    "\\text{CL}_\\text{s} = \\frac{\\text{CL}_\\text{s+b}}{\\text{CL}_\\text{b}} = \\frac{p_{\\text{s+b}}}{1-p_{\\text{b}}}\n",
    "$$"
   ]
  },
  {
   "cell_type": "markdown",
   "metadata": {},
   "source": [
    "with\n",
    "\n",
    "$$\n",
    "\\text{CL}_\\text{s+b} = \\int_{t_\\text{obs}}^\\infty \\text{d}t\\ p_0(t | H_0) \\qquad\\qquad \\text{CL}_\\text{b} = \\int_{t_\\text{obs}}^\\infty \\text{d}t\\ p_1(t | H_1)\n",
    "$$\n",
    "\n",
    "This is done by splitting the model parameters up into two groups:\n",
    "\n",
    "* parameters of interest (POI &mdash; can have multiple!)\n",
    "* nuisance parameters (NP)\n",
    "\n",
    "Recall that additionally, all parameters are either constrained or unconstrained. Parameters of interest happen to always be unconstrained parameters.\n",
    "\n",
    "$$\n",
    "    f(\\boldsymbol{x}|\\phi) = f(\\boldsymbol{x}|\\overbrace{\\eta}^{\\llap{\\text{free}}},\\underbrace{\\chi}_{\\llap{\\text{constrained}}}) = f(\\boldsymbol{x}|\\overbrace{\\psi}^{\\rlap{\\text{parameters of interest}}},\\underbrace{\\theta}_{\\rlap{\\text{nuisance parameters}}})\n",
    "$$\n",
    "\n",
    "In the vast majority of cases, the test statistic is the profile likelihood ratio, or variations of it:\n",
    "\n",
    "$$\n",
    "t_\\psi(x) = \\frac{L(\\psi, \\hat{\\hat{\\theta}})}{L({\\hat{\\psi}, \\hat{\\theta}})}\n",
    "$$\n",
    "\n",
    "where\n",
    "\n",
    "* $\\hat{\\hat{\\theta}}$ is the best fitted value of the nuisance parameters (for fixed POIs)\n",
    "* $\\hat{\\psi}$ and $\\hat{\\theta}$ are the best fitted values in a global fit\n",
    "\n",
    "So let's run a limit setting (exclusion) hypothesis test for\n",
    "\n",
    "* null hypothesis ($\\mu = 1$) &mdash; \"BSM physics process exists\"\n",
    "* alternate hypothesis ($\\mu = 0$) &mdash; \"Standard Model only physics\""
   ]
  },
  {
   "cell_type": "code",
   "execution_count": 64,
   "metadata": {},
   "outputs": [],
   "source": [
    "model2 = pyhf.simplemodels.uncorrelated_background(\n",
    "    signal=[10.0, 20.0], bkg=[50.0, 60.0], bkg_uncertainty=[5.0, 12.0]\n",
    ")"
   ]
  },
  {
   "cell_type": "code",
   "execution_count": 65,
   "metadata": {},
   "outputs": [],
   "source": [
    "model1 = pyhf.simplemodels.uncorrelated_background(\n",
    "    signal=[10.0, 20.0], bkg=[50.0, 60.0], bkg_uncertainty=[5.0, 12.0]\n",
    ")"
   ]
  },
  {
   "cell_type": "code",
   "execution_count": 92,
   "metadata": {},
   "outputs": [
    {
     "ename": "TypeError",
     "evalue": "__init__() missing 1 required positional argument: 'spec'",
     "output_type": "error",
     "traceback": [
      "\u001b[0;31m---------------------------------------------------------------------------\u001b[0m",
      "\u001b[0;31mTypeError\u001b[0m                                 Traceback (most recent call last)",
      "Cell \u001b[0;32mIn[92], line 2\u001b[0m\n\u001b[1;32m      1\u001b[0m pyhf\u001b[38;5;241m.\u001b[39mpdf\u001b[38;5;241m.\u001b[39mModel\n\u001b[0;32m----> 2\u001b[0m model_test \u001b[38;5;241m=\u001b[39m \u001b[43mpyhf\u001b[49m\u001b[38;5;241;43m.\u001b[39;49m\u001b[43mpdf\u001b[49m\u001b[38;5;241;43m.\u001b[39;49m\u001b[43mModel\u001b[49m\u001b[43m(\u001b[49m\n\u001b[1;32m      3\u001b[0m \u001b[43m    \u001b[49m\u001b[43msignal\u001b[49m\u001b[38;5;241;43m=\u001b[39;49m\u001b[43m[\u001b[49m\u001b[38;5;241;43m564.6\u001b[39;49m\u001b[43m]\u001b[49m\u001b[43m,\u001b[49m\u001b[43m \u001b[49m\u001b[43mbkg\u001b[49m\u001b[38;5;241;43m=\u001b[39;49m\u001b[43m[\u001b[49m\u001b[38;5;241;43m395.2\u001b[39;49m\u001b[43m]\u001b[49m\u001b[43m,\u001b[49m\u001b[43m \u001b[49m\u001b[43mbkg_uncertainty\u001b[49m\u001b[38;5;241;43m=\u001b[39;49m\u001b[43m[\u001b[49m\u001b[38;5;241;43m395.2\u001b[39;49m\u001b[38;5;241;43m*\u001b[39;49m\u001b[38;5;241;43m*\u001b[39;49m\u001b[43m(\u001b[49m\u001b[38;5;241;43m1\u001b[39;49m\u001b[38;5;241;43m/\u001b[39;49m\u001b[38;5;241;43m2\u001b[39;49m\u001b[43m)\u001b[49m\u001b[43m]\u001b[49m\n\u001b[1;32m      4\u001b[0m \u001b[43m)\u001b[49m\n\u001b[1;32m      5\u001b[0m CLs_obs, CLs_exp \u001b[38;5;241m=\u001b[39m pyhf\u001b[38;5;241m.\u001b[39minfer\u001b[38;5;241m.\u001b[39mhypotest(\n\u001b[1;32m      6\u001b[0m     \u001b[38;5;241m0.0979\u001b[39m,  \u001b[38;5;66;03m# null hypothesis\u001b[39;00m\n\u001b[1;32m      7\u001b[0m     [\u001b[38;5;241m395.2\u001b[39m] \u001b[38;5;241m+\u001b[39m model_test\u001b[38;5;241m.\u001b[39mconfig\u001b[38;5;241m.\u001b[39mauxdata,\n\u001b[0;32m   (...)\u001b[0m\n\u001b[1;32m     10\u001b[0m     return_expected_set\u001b[38;5;241m=\u001b[39m\u001b[38;5;28;01mTrue\u001b[39;00m,\n\u001b[1;32m     11\u001b[0m )\n\u001b[1;32m     12\u001b[0m \u001b[38;5;28mprint\u001b[39m(\u001b[38;5;124mf\u001b[39m\u001b[38;5;124m\"\u001b[39m\u001b[38;5;124m      Observed CLs: \u001b[39m\u001b[38;5;132;01m{\u001b[39;00mCLs_obs\u001b[38;5;132;01m:\u001b[39;00m\u001b[38;5;124m.4f\u001b[39m\u001b[38;5;132;01m}\u001b[39;00m\u001b[38;5;124m\"\u001b[39m)\n",
      "\u001b[0;31mTypeError\u001b[0m: __init__() missing 1 required positional argument: 'spec'"
     ]
    }
   ],
   "source": [
    "pyhf.pdf.Model\n",
    "model_test = pyhf.pdf.Model(\n",
    "    signal=[564.6], bkg=[395.2], bkg_uncertainty=[395.2**(1/2)]\n",
    ")\n",
    "CLs_obs, CLs_exp = pyhf.infer.hypotest(\n",
    "    0.0979,  # null hypothesis\n",
    "    [395.2] + model_test.config.auxdata,\n",
    "    model_test,\n",
    "    test_stat=\"q\",\n",
    "    return_expected_set=True,\n",
    ")\n",
    "print(f\"      Observed CLs: {CLs_obs:.4f}\")\n",
    "for expected_value, n_sigma in zip(CLs_exp, np.arange(-2, 3)):\n",
    "    print(f\"Expected CLs({n_sigma:2d} σ): {expected_value:.4f}\")"
   ]
  },
  {
   "cell_type": "code",
   "execution_count": 118,
   "metadata": {},
   "outputs": [
    {
     "name": "stderr",
     "output_type": "stream",
     "text": [
      "qmu test statistic used for fit configuration with POI bounded at zero.\n",
      "Use the qmu_tilde test statistic (pyhf.infer.test_statistics.qmu_tilde) instead.\n",
      "qmu test statistic used for fit configuration with POI bounded at zero.\n",
      "Use the qmu_tilde test statistic (pyhf.infer.test_statistics.qmu_tilde) instead.\n"
     ]
    },
    {
     "name": "stdout",
     "output_type": "stream",
     "text": [
      "      Observed CLs: 0.0496\n",
      "Expected CLs(-2 σ): 0.0016\n",
      "Expected CLs(-1 σ): 0.0096\n",
      "Expected CLs( 0 σ): 0.0496\n",
      "Expected CLs( 1 σ): 0.1992\n",
      "Expected CLs( 2 σ): 0.5265\n"
     ]
    }
   ],
   "source": [
    "model_test = pyhf.simplemodels.uncorrelated_background(\n",
    "    signal=[564.6], bkg=[395.2], bkg_uncertainty=[395.2**(1/2)]\n",
    ")\n",
    "CLs_obs, CLs_exp = pyhf.infer.hypotest(\n",
    "    0.0979,  # null hypothesis\n",
    "    [395.2] + model_test.config.auxdata,\n",
    "    model_test,\n",
    "    test_stat=\"q\",\n",
    "    return_expected_set=True,\n",
    ")\n",
    "print(f\"      Observed CLs: {CLs_obs:.4f}\")\n",
    "for expected_value, n_sigma in zip(CLs_exp, np.arange(-2, 3)):\n",
    "    print(f\"Expected CLs({n_sigma:2d} σ): {expected_value:.4f}\")\n"
   ]
  },
  {
   "cell_type": "code",
   "execution_count": 119,
   "metadata": {},
   "outputs": [
    {
     "name": "stderr",
     "output_type": "stream",
     "text": [
      "qmu test statistic used for fit configuration with POI bounded at zero.\n",
      "Use the qmu_tilde test statistic (pyhf.infer.test_statistics.qmu_tilde) instead.\n",
      "qmu test statistic used for fit configuration with POI bounded at zero.\n",
      "Use the qmu_tilde test statistic (pyhf.infer.test_statistics.qmu_tilde) instead.\n"
     ]
    },
    {
     "name": "stdout",
     "output_type": "stream",
     "text": [
      "      Observed CLs: 0.0496\n",
      "Expected CLs(-2 σ): 0.0016\n",
      "Expected CLs(-1 σ): 0.0096\n",
      "Expected CLs( 0 σ): 0.0496\n",
      "Expected CLs( 1 σ): 0.1992\n",
      "Expected CLs( 2 σ): 0.5265\n"
     ]
    }
   ],
   "source": [
    "model_test = pyhf.simplemodels.uncorrelated_background(\n",
    "    signal=[564.6*0.0979], bkg=[395.2], bkg_uncertainty=[395.2**(1/2)]\n",
    ")\n",
    "CLs_obs, CLs_exp = pyhf.infer.hypotest(\n",
    "    1,  # null hypothesis\n",
    "    [395.2] + model_test.config.auxdata,\n",
    "    model_test,\n",
    "    test_stat=\"q\",\n",
    "    return_expected_set=True,\n",
    ")\n",
    "print(f\"      Observed CLs: {CLs_obs:.4f}\")\n",
    "for expected_value, n_sigma in zip(CLs_exp, np.arange(-2, 3)):\n",
    "    print(f\"Expected CLs({n_sigma:2d} σ): {expected_value:.4f}\")\n"
   ]
  },
  {
   "cell_type": "code",
   "execution_count": 90,
   "metadata": {},
   "outputs": [
    {
     "name": "stderr",
     "output_type": "stream",
     "text": [
      "qmu test statistic used for fit configuration with POI bounded at zero.\n",
      "Use the qmu_tilde test statistic (pyhf.infer.test_statistics.qmu_tilde) instead.\n",
      "qmu test statistic used for fit configuration with POI bounded at zero.\n",
      "Use the qmu_tilde test statistic (pyhf.infer.test_statistics.qmu_tilde) instead.\n"
     ]
    },
    {
     "name": "stdout",
     "output_type": "stream",
     "text": [
      "      Observed CLs: 0.0471\n",
      "Expected CLs(-2 σ): 0.0000\n",
      "Expected CLs(-1 σ): 0.0005\n",
      "Expected CLs( 0 σ): 0.0053\n",
      "Expected CLs( 1 σ): 0.0437\n",
      "Expected CLs( 2 σ): 0.2200\n"
     ]
    }
   ],
   "source": [
    "model_test = pyhf.simplemodels.uncorrelated_background(\n",
    "    signal=[3.88972], bkg=[0], bkg_uncertainty=[0**(1/2)]\n",
    ")\n",
    "CLs_obs, CLs_exp = pyhf.infer.hypotest(\n",
    "    1,  # null hypothesis\n",
    "    [1] + model_test.config.auxdata,\n",
    "    model_test,\n",
    "    test_stat=\"q\",\n",
    "    return_expected_set=True,\n",
    ")\n",
    "print(f\"      Observed CLs: {CLs_obs:.4f}\")\n",
    "for expected_value, n_sigma in zip(CLs_exp, np.arange(-2, 3)):\n",
    "    print(f\"Expected CLs({n_sigma:2d} σ): {expected_value:.4f}\")  "
   ]
  },
  {
   "cell_type": "code",
   "execution_count": 126,
   "metadata": {},
   "outputs": [
    {
     "name": "stderr",
     "output_type": "stream",
     "text": [
      "qmu test statistic used for fit configuration with POI bounded at zero.\n",
      "Use the qmu_tilde test statistic (pyhf.infer.test_statistics.qmu_tilde) instead.\n",
      "qmu test statistic used for fit configuration with POI bounded at zero.\n",
      "Use the qmu_tilde test statistic (pyhf.infer.test_statistics.qmu_tilde) instead.\n"
     ]
    },
    {
     "name": "stdout",
     "output_type": "stream",
     "text": [
      "      Observed CLs: 0.0390\n",
      "Expected CLs(-2 σ): 0.0017\n",
      "Expected CLs(-1 σ): 0.0099\n",
      "Expected CLs( 0 σ): 0.0507\n",
      "Expected CLs( 1 σ): 0.2020\n",
      "Expected CLs( 2 σ): 0.5303\n"
     ]
    }
   ],
   "source": [
    "model_test = pyhf.simplemodels.uncorrelated_background(\n",
    "    signal=[12.3], bkg=[22.1], bkg_uncertainty=[22.1**(1/2)*0.8]\n",
    ")\n",
    "CLs_obs, CLs_exp = pyhf.infer.hypotest(\n",
    "    1,  # null hypothesis\n",
    "    [21] + model_test.config.auxdata,\n",
    "    model_test,\n",
    "    test_stat=\"q\",\n",
    "    return_expected_set=True,\n",
    ")\n",
    "print(f\"      Observed CLs: {CLs_obs:.4f}\")\n",
    "for expected_value, n_sigma in zip(CLs_exp, np.arange(-2, 3)):\n",
    "    print(f\"Expected CLs({n_sigma:2d} σ): {expected_value:.4f}\")  "
   ]
  },
  {
   "cell_type": "code",
   "execution_count": 88,
   "metadata": {},
   "outputs": [
    {
     "name": "stdout",
     "output_type": "stream",
     "text": [
      "Upper limit (obs): μ = 0.7840\n",
      "Upper limit (exp): μ = 0.3544\n"
     ]
    }
   ],
   "source": [
    "poi_values = np.linspace(0.1, 5, 50)\n",
    "obs_limit, exp_limits, (scan, results) = pyhf.infer.intervals.upper_limits.upper_limit(\n",
    "    [1,1], model_test, poi_values, level=0.1, return_results=True\n",
    ")\n",
    "print(f\"Upper limit (obs): μ = {obs_limit:.4f}\")\n",
    "print(f\"Upper limit (exp): μ = {exp_limits[2]:.4f}\")"
   ]
  },
  {
   "cell_type": "code",
   "execution_count": 66,
   "metadata": {},
   "outputs": [
    {
     "name": "stderr",
     "output_type": "stream",
     "text": [
      "qmu test statistic used for fit configuration with POI bounded at zero.\n",
      "Use the qmu_tilde test statistic (pyhf.infer.test_statistics.qmu_tilde) instead.\n",
      "qmu test statistic used for fit configuration with POI bounded at zero.\n",
      "Use the qmu_tilde test statistic (pyhf.infer.test_statistics.qmu_tilde) instead.\n"
     ]
    },
    {
     "name": "stdout",
     "output_type": "stream",
     "text": [
      "      Observed CLs: 0.0651\n",
      "Expected CLs(-2 σ): 0.0027\n",
      "Expected CLs(-1 σ): 0.0140\n",
      "Expected CLs( 0 σ): 0.0651\n",
      "Expected CLs( 1 σ): 0.2368\n",
      "Expected CLs( 2 σ): 0.5749\n"
     ]
    }
   ],
   "source": [
    "CLs_obs, CLs_exp = pyhf.infer.hypotest(\n",
    "    2.0,  # null hypothesis\n",
    "    #[1000.0, 230.0] + model.config.auxdata,\n",
    "    [50.0, 60.0] + model.config.auxdata,\n",
    "    #[53.0, 65.0] + model.config.auxdata,\n",
    "    model1,\n",
    "    test_stat=\"q\",\n",
    "    return_expected_set=True,\n",
    ")\n",
    "print(f\"      Observed CLs: {CLs_obs:.4f}\")\n",
    "for expected_value, n_sigma in zip(CLs_exp, np.arange(-2, 3)):\n",
    "    print(f\"Expected CLs({n_sigma:2d} σ): {expected_value:.4f}\")"
   ]
  },
  {
   "cell_type": "code",
   "execution_count": 67,
   "metadata": {},
   "outputs": [
    {
     "name": "stderr",
     "output_type": "stream",
     "text": [
      "qmu test statistic used for fit configuration with POI bounded at zero.\n",
      "Use the qmu_tilde test statistic (pyhf.infer.test_statistics.qmu_tilde) instead.\n",
      "qmu test statistic used for fit configuration with POI bounded at zero.\n",
      "Use the qmu_tilde test statistic (pyhf.infer.test_statistics.qmu_tilde) instead.\n"
     ]
    },
    {
     "name": "stdout",
     "output_type": "stream",
     "text": [
      "      Observed CLs: 0.0651\n",
      "Expected CLs(-2 σ): 0.0027\n",
      "Expected CLs(-1 σ): 0.0140\n",
      "Expected CLs( 0 σ): 0.0651\n",
      "Expected CLs( 1 σ): 0.2368\n",
      "Expected CLs( 2 σ): 0.5749\n"
     ]
    }
   ],
   "source": [
    "CLs_obs, CLs_exp = pyhf.infer.hypotest(\n",
    "    1.0,  # null hypothesis\n",
    "    #[1000.0, 230.0] + model.config.auxdata,\n",
    "    [50.0, 60.0] + model.config.auxdata,\n",
    "    #[53.0, 65.0] + model.config.auxdata,\n",
    "    model2,\n",
    "    test_stat=\"q\",\n",
    "    return_expected_set=True,\n",
    ")\n",
    "print(f\"      Observed CLs: {CLs_obs:.4f}\")\n",
    "for expected_value, n_sigma in zip(CLs_exp, np.arange(-2, 3)):\n",
    "    print(f\"Expected CLs({n_sigma:2d} σ): {expected_value:.4f}\")"
   ]
  },
  {
   "cell_type": "markdown",
   "metadata": {},
   "source": [
    "Nicely enough, `pyhf` is smart enough to let us know that, if for a model where $\\hat{\\psi} < 0$, we're not going to be able to catch it because our default bounds were bounding the parameter of interest from below at 0. For more information, see Equation 14 in [[1007.1727]](https://arxiv.org/abs/1007.1727)."
   ]
  },
  {
   "cell_type": "code",
   "execution_count": 68,
   "metadata": {},
   "outputs": [
    {
     "data": {
      "text/plain": [
       "<pyhf.parameters.paramsets.unconstrained at 0x7f84e15742b0>"
      ]
     },
     "execution_count": 68,
     "metadata": {},
     "output_type": "execute_result"
    }
   ],
   "source": [
    "model.config.param_set(\"mu\")"
   ]
  },
  {
   "cell_type": "code",
   "execution_count": 69,
   "metadata": {},
   "outputs": [
    {
     "data": {
      "text/plain": [
       "(0, 10)"
      ]
     },
     "execution_count": 69,
     "metadata": {},
     "output_type": "execute_result"
    }
   ],
   "source": [
    "model.config.suggested_bounds()[model.config.poi_index]"
   ]
  },
  {
   "cell_type": "code",
   "execution_count": 56,
   "metadata": {},
   "outputs": [
    {
     "ename": "TypeError",
     "evalue": "'_ModelConfig' object is not subscriptable",
     "output_type": "error",
     "traceback": [
      "\u001b[0;31m---------------------------------------------------------------------------\u001b[0m",
      "\u001b[0;31mTypeError\u001b[0m                                 Traceback (most recent call last)",
      "Cell \u001b[0;32mIn[56], line 1\u001b[0m\n\u001b[0;32m----> 1\u001b[0m \u001b[43mmodel\u001b[49m\u001b[38;5;241;43m.\u001b[39;49m\u001b[43mconfig\u001b[49m\u001b[43m[\u001b[49m\u001b[43mmodel\u001b[49m\u001b[38;5;241;43m.\u001b[39;49m\u001b[43mconfig\u001b[49m\u001b[38;5;241;43m.\u001b[39;49m\u001b[43mpoi_index\u001b[49m\u001b[43m]\u001b[49m\n",
      "\u001b[0;31mTypeError\u001b[0m: '_ModelConfig' object is not subscriptable"
     ]
    }
   ],
   "source": [
    "model.config[model.config.poi_index]"
   ]
  },
  {
   "cell_type": "markdown",
   "metadata": {},
   "source": [
    "We should heed the warning and switch our test statistic in this case to a variation of it $q_\\mu \\to \\tilde{q}_\\mu$. We could also change the bounds from the default to allow $\\mu$ to float below zero. In this case, we're just going to use a more appropriate test statistic as we know $\\hat{\\mu} \\geq 0$."
   ]
  },
  {
   "cell_type": "code",
   "execution_count": null,
   "metadata": {},
   "outputs": [],
   "source": [
    "CLs_obs, CLs_exp = pyhf.infer.hypotest(\n",
    "    1.0,  # null hypothesis\n",
    "    [53.0, 65.0] + model.config.auxdata,\n",
    "    model,\n",
    "    test_stat=\"qtilde\",\n",
    "    return_expected_set=True,\n",
    ")\n",
    "print(f\"      Observed CLs: {CLs_obs:.4f}\")\n",
    "for expected_value, n_sigma in zip(CLs_exp, np.arange(-2, 3)):\n",
    "    print(f\"Expected CLs({n_sigma:2d} σ): {expected_value:.4f}\")"
   ]
  },
  {
   "cell_type": "markdown",
   "metadata": {},
   "source": [
    "## Simple Upper Limit\n",
    "\n",
    "To get upper limits, we just need to run multiple hypothesis tests for a lot of different null hypotheses of BSM with $\\mu \\in [0, \\ldots, 5.0]$ and then find the value of $\\mu$ for which the null hypothesis is rejected (a 95% $\\text{CL}_\\text{s}$). We can do all of this very easily just using the [`upper_limits.upper_limit` API](https://pyhf.readthedocs.io/en/v0.7.1/_generated/pyhf.infer.intervals.upper_limits.upper_limit.html#pyhf.infer.intervals.upper_limits.upper_limit), which also can calculate the upper limit by interpolating"
   ]
  },
  {
   "cell_type": "code",
   "execution_count": null,
   "metadata": {},
   "outputs": [],
   "source": [
    "observations = [50.0, 60.0] + model.config.auxdata  # this is a common pattern!"
   ]
  },
  {
   "cell_type": "code",
   "execution_count": null,
   "metadata": {
    "tags": []
   },
   "outputs": [],
   "source": [
    "poi_values = np.linspace(0.1, 5, 50)\n",
    "obs_limit, exp_limits, (scan, results) = pyhf.infer.intervals.upper_limits.upper_limit(\n",
    "    observations, model, poi_values, level=0.05, return_results=True\n",
    ")\n",
    "print(f\"Upper limit (obs): μ = {obs_limit:.4f}\")\n",
    "print(f\"Upper limit (exp): μ = {exp_limits[2]:.4f}\")"
   ]
  },
  {
   "cell_type": "code",
   "execution_count": null,
   "metadata": {},
   "outputs": [],
   "source": [
    "print(len(results))\n",
    "#print(scan)"
   ]
  },
  {
   "cell_type": "markdown",
   "metadata": {},
   "source": [
    "We can plot the standard \"Brazil band\" of the observed and expected $\\text{CL}_\\text{s}$ values using the `pyhf.contrib` module (which needs `pyhf[contrib]`):\n",
    "\n",
    "The horiztonal red line indicates the test size ($\\alpha=0.05$), whose intersection with the $\\text{CL}_\\text{s}$ lines visually represents the $(1-\\alpha)\\%$ CL limit on the POI."
   ]
  },
  {
   "cell_type": "code",
   "execution_count": null,
   "metadata": {},
   "outputs": [],
   "source": [
    "fig, ax = plt.subplots()\n",
    "fig.set_size_inches(10.5, 7)\n",
    "ax.set_title(\"Hypothesis Tests\")\n",
    "#ax.xlim([0, 5])\n",
    "\n",
    "artists = brazil.plot_results(poi_values, results, ax=ax)"
   ]
  },
  {
   "cell_type": "markdown",
   "metadata": {},
   "source": [
    "Note that if you wanted to do all of this \"by hand\" you still could pretty easily. The `pyhf.infer.intervals.upper_limits.upper_limit` API just makes it easier."
   ]
  },
  {
   "cell_type": "code",
   "execution_count": null,
   "metadata": {},
   "outputs": [],
   "source": [
    "# Perform a hypothesis test scan across POIs\n",
    "results = [\n",
    "    pyhf.infer.hypotest(\n",
    "        poi_value,\n",
    "        observations,\n",
    "        model,\n",
    "        test_stat=\"qtilde\",\n",
    "        return_expected_set=True,\n",
    "    )\n",
    "    for poi_value in poi_values\n",
    "]\n",
    "\n",
    "# Calculate upper limit through interpolation\n",
    "observed = np.asarray([h[0] for h in results]).ravel()\n",
    "expected = np.asarray([h[1][2] for h in results]).ravel()\n",
    "print(f\"Upper limit (obs): μ = {np.interp(0.05, observed[::-1], poi_values[::-1]):.4f}\")\n",
    "print(f\"Upper limit (exp): μ = {np.interp(0.05, expected[::-1], poi_values[::-1]):.4f}\")"
   ]
  },
  {
   "cell_type": "code",
   "execution_count": null,
   "metadata": {},
   "outputs": [],
   "source": [
    "with open(\"data/2-bin_1-channel.json\") as serialized:\n",
    "    spec = json.load(serialized)\n",
    "print(json.dumps(spec, indent=2))\n",
    "\n"
   ]
  },
  {
   "cell_type": "code",
   "execution_count": null,
   "metadata": {},
   "outputs": [],
   "source": []
  }
 ],
 "metadata": {
  "kernelspec": {
   "display_name": "Python 3 (ipykernel)",
   "language": "python",
   "name": "python3"
  },
  "language_info": {
   "codemirror_mode": {
    "name": "ipython",
    "version": 3
   },
   "file_extension": ".py",
   "mimetype": "text/x-python",
   "name": "python",
   "nbconvert_exporter": "python",
   "pygments_lexer": "ipython3",
   "version": "3.9.1"
  }
 },
 "nbformat": 4,
 "nbformat_minor": 4
}
